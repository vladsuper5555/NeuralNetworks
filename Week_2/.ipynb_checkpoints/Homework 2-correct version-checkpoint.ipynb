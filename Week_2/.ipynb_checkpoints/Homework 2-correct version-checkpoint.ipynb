{
 "cells": [
  {
   "cell_type": "markdown",
   "id": "bd8ac041-47b9-48a9-b6a7-94d33cad4b68",
   "metadata": {},
   "source": [
    "## 1. Downloading the dataset"
   ]
  },
  {
   "cell_type": "code",
   "execution_count": 1,
   "id": "fcbc5e5a-cc00-4601-938d-67cdcbd6d084",
   "metadata": {},
   "outputs": [],
   "source": [
    "import pip\n",
    "def install(package):\n",
    "    pip.main(['install', package])"
   ]
  },
  {
   "cell_type": "code",
   "execution_count": 2,
   "id": "da64f933-e618-486d-a340-e5e29bc46685",
   "metadata": {},
   "outputs": [
    {
     "name": "stdout",
     "output_type": "stream",
     "text": [
      "module 'mutagen' is installed\n"
     ]
    }
   ],
   "source": [
    "try:\n",
    "    from torchvision.datasets import MNIST\n",
    "    print(\"module 'mutagen' is installed\")\n",
    "except ModuleNotFoundError:\n",
    "    print(\"module 'torchvsion' is not installed\")\n",
    "    # or\n",
    "    install(\"torchvision\") # the install function from the question"
   ]
  },
  {
   "cell_type": "code",
   "execution_count": 3,
   "id": "d571b73b-9abe-48c9-ae9e-47b991cb05df",
   "metadata": {},
   "outputs": [],
   "source": [
    "import numpy as np\n",
    "from torchvision.datasets import MNIST\n",
    "train_dataset = None\n",
    "test_dataset = None\n",
    "def download_mnist(is_train: bool):\n",
    "    if is_train == True:\n",
    "        return MNIST(root='./data', transform=lambda x: np.array(x).flatten(), download=True, train=is_train)\n",
    "    else: \n",
    "        return MNIST(root='./data', transform=lambda x: np.array(x).flatten(), download=True, train=is_train)\n",
    "\n",
    "train_dataset = download_mnist(True)\n",
    "test_dataset = download_mnist(False)"
   ]
  },
  {
   "cell_type": "markdown",
   "id": "3b0377ca-ed0a-4e48-a07c-638b64f559ac",
   "metadata": {},
   "source": [
    "## 2. Processing the dataset"
   ]
  },
  {
   "cell_type": "code",
   "execution_count": 4,
   "id": "c2af5bed-8957-4a9d-987b-60fd8dbefeb9",
   "metadata": {},
   "outputs": [],
   "source": [
    "def processData(dataset):\n",
    "    np_dataset_images = np.array([object[0] for object in dataset], dtype = np.bool_).reshape(len(dataset), 28 * 28)\n",
    "    np_dataset_labels = np.array([object[1] for object in dataset], dtype = np.uint8)\n",
    "    \n",
    "    return np_dataset_images, np_dataset_labels\n",
    "\n",
    "np_train_dataset = processData(train_dataset)\n",
    "np_test_dataset = processData(test_dataset)"
   ]
  },
  {
   "cell_type": "markdown",
   "id": "2ad8bf82-7085-4d0f-88c7-4541b201737c",
   "metadata": {},
   "source": [
    "## 3. Implementing a perceptron handler\n",
    "We need to have the follwing:\n",
    "\n",
    "    - an array of the weights of the system\n",
    "    - function to propagate forward and find the results\n",
    "    - function to recalculate the weights based on the results (backwards propagation)"
   ]
  },
  {
   "cell_type": "code",
   "execution_count": 5,
   "id": "4c949c6f-0e4b-495d-aa3a-db7000ed533e",
   "metadata": {},
   "outputs": [],
   "source": [
    "import random \n",
    "class Perceptron:\n",
    "    def __init__(self):\n",
    "        self.weights = np.array([random.random() for _ in range(28 * 28)])\n",
    "        self.bias = random.random()\n",
    "        \n",
    "    def forwardPropagation (self, inputs): \n",
    "        z = np.sum(self.weights * inputs) + self.bias\n",
    "        return z\n",
    "\n",
    "    def updateWeights(self, vectorToAdd):\n",
    "        self.weights += vectorToAdd\n",
    "        \n",
    "\n",
    "\n",
    "    def updateBias (self, valueToAdd):\n",
    "        self.bias += valueToAdd\n",
    "\n",
    "    def backPropagation(self, learningRate, gradient, inputVector):\n",
    "        self.updateWeights(learningRate * gradient * inputVector)\n",
    "        self.updateBias(learningRate * gradient)"
   ]
  },
  {
   "cell_type": "markdown",
   "id": "6b85fb16-8dd5-4cbb-a0ea-22ebea03e9b3",
   "metadata": {},
   "source": [
    "## 4. Defining the hyper parameters\n",
    "1. The learning rate -> the rate at which we want to apply the gradient to each feature\n",
    "2. The epoch number -> the number of times the algorithm runs\n",
    "3. Additionally we will include here the e constant"
   ]
  },
  {
   "cell_type": "code",
   "execution_count": 6,
   "id": "cc9f82ad-cca4-4278-90c1-f078303ffb08",
   "metadata": {},
   "outputs": [],
   "source": [
    "LEARNING_RATE = 0.001\n",
    "EPOCH_NUMBER = 100\n",
    "E_CONSTANT = 2.7182818284"
   ]
  },
  {
   "cell_type": "markdown",
   "id": "37a63c36-2f83-44e2-a81c-406154e5258f",
   "metadata": {},
   "source": [
    "## 5. Running the algorithm\n",
    "- we will have a function for running epoch\n",
    "- we will have a function for running a batch\n"
   ]
  },
  {
   "cell_type": "code",
   "execution_count": 7,
   "id": "b19543de-f002-4ca7-8509-5b2aee1eb942",
   "metadata": {},
   "outputs": [],
   "source": [
    "import concurrent.futures\n",
    "\n",
    "def runBatch(np_batch_train_dataset):\n",
    "    batch_size = np_batch_train_dataset[0].shape[0]\n",
    "    num_classes = len(perceptrons)\n",
    "\n",
    "    gradients_accumulated = [np.zeros_like(perceptron.weights) for perceptron in perceptrons]\n",
    "    bias_accumulated = [0 for _ in perceptrons]\n",
    "    batchCorrectly = 0\n",
    "    \n",
    "    for testIndex in range(batch_size):\n",
    "        z = [perceptron.forwardPropagation(np_batch_train_dataset[0][testIndex]) for perceptron in perceptrons]\n",
    "        z_max = np.max(z)\n",
    "        z_stable = z - z_max\n",
    "        softMaxArray = np.exp(z_stable) / np.sum(np.exp(z_stable))\n",
    "\n",
    "        correctPredictionValue = np_batch_train_dataset[1][testIndex]\n",
    "        correctPredictionArray = np.zeros(num_classes)\n",
    "        correctPredictionArray[correctPredictionValue] = 1\n",
    "\n",
    "        errorArray = softMaxArray - correctPredictionArray\n",
    "\n",
    "        for i, perceptron in enumerate(perceptrons):\n",
    "            gradients_accumulated[i] += -errorArray[i] * np_batch_train_dataset[0][testIndex]\n",
    "            bias_accumulated[i] += -errorArray[i]\n",
    "\n",
    "        if correctPredictionValue == np.argmax(softMaxArray):\n",
    "            batchCorrectly += 1\n",
    "\n",
    "    return gradients_accumulated, bias_accumulated, batchCorrectly\n",
    "\n",
    "def runEpoch(batch_size=100):\n",
    "    total_samples = np_train_dataset[0].shape[0]\n",
    "    batchCount = total_samples // batch_size\n",
    "    totalCorrect = 0\n",
    "\n",
    "    for batchIndex in range(batchCount):\n",
    "        batchStartIndex = batchIndex * batch_size\n",
    "        batchEndIndex = (batchIndex + 1) * batch_size\n",
    "        batch_train_dataset = [np_train_dataset[0][batchStartIndex:batchEndIndex], \n",
    "                               np_train_dataset[1][batchStartIndex:batchEndIndex]]\n",
    "\n",
    "\n",
    "        gradients_accumulated, bias_accumulated, batchCorrect = runBatch(batch_train_dataset)\n",
    "\n",
    "        for i, perceptron in enumerate(perceptrons):\n",
    "            perceptron.weights += LEARNING_RATE * gradients_accumulated[i]\n",
    "            perceptron.bias += LEARNING_RATE * bias_accumulated[i]\n",
    "\n",
    "\n",
    "        totalCorrect += batchCorrect\n",
    "        \n",
    "    return totalCorrect\n",
    "    \n",
    "def runTest(inputs):\n",
    "    z = [perceptron.forwardPropagation(inputs) for perceptron in perceptrons]\n",
    "    z_max = np.max(z)\n",
    "    z_stable = z - z_max  \n",
    "    softMaxArray = np.exp(z_stable) / np.sum(np.exp(z_stable))\n",
    "    max_index = max_index = np.argmax(softMaxArray)\n",
    "    return max_index\n"
   ]
  },
  {
   "cell_type": "markdown",
   "id": "cc4c5def-13a1-4fbb-b26b-0e0c336937e2",
   "metadata": {},
   "source": [
    "## 6. Running the main function and initializing the perceptrons"
   ]
  },
  {
   "cell_type": "code",
   "execution_count": 8,
   "id": "f88bc896-432e-4990-8f17-1af2a1575bee",
   "metadata": {
    "scrolled": true
   },
   "outputs": [
    {
     "name": "stdout",
     "output_type": "stream",
     "text": [
      "trainingAccuracy =  46734 60000 0.7789\n",
      "Accuracy on tests at epoch 0 : 0.8604\n",
      "trainingAccuracy =  52012 60000 0.8668666666666667\n",
      "Accuracy on tests at epoch 1 : 0.879\n",
      "trainingAccuracy =  52915 60000 0.8819166666666667\n",
      "Accuracy on tests at epoch 2 : 0.8884\n",
      "trainingAccuracy =  53403 60000 0.89005\n",
      "Accuracy on tests at epoch 3 : 0.8935\n",
      "trainingAccuracy =  53713 60000 0.8952166666666667\n",
      "Accuracy on tests at epoch 4 : 0.8965\n"
     ]
    },
    {
     "ename": "KeyboardInterrupt",
     "evalue": "",
     "output_type": "error",
     "traceback": [
      "\u001b[0;31m---------------------------------------------------------------------------\u001b[0m",
      "\u001b[0;31mKeyboardInterrupt\u001b[0m                         Traceback (most recent call last)",
      "Cell \u001b[0;32mIn[8], line 14\u001b[0m\n\u001b[1;32m     12\u001b[0m                 correctlyPredicted \u001b[38;5;241m+\u001b[39m\u001b[38;5;241m=\u001b[39m \u001b[38;5;241m1\u001b[39m\n\u001b[1;32m     13\u001b[0m         \u001b[38;5;28mprint\u001b[39m(\u001b[38;5;124m'\u001b[39m\u001b[38;5;124mAccuracy on tests at epoch \u001b[39m\u001b[38;5;124m'\u001b[39m \u001b[38;5;241m+\u001b[39m \u001b[38;5;28mstr\u001b[39m(epochIndex) \u001b[38;5;241m+\u001b[39m \u001b[38;5;124m\"\u001b[39m\u001b[38;5;124m : \u001b[39m\u001b[38;5;124m\"\u001b[39m \u001b[38;5;241m+\u001b[39m \u001b[38;5;28mstr\u001b[39m(correctlyPredicted \u001b[38;5;241m/\u001b[39m (tests\u001b[38;5;241m.\u001b[39msize \u001b[38;5;241m/\u001b[39m\u001b[38;5;241m/\u001b[39m (\u001b[38;5;241m28\u001b[39m \u001b[38;5;241m*\u001b[39m \u001b[38;5;241m28\u001b[39m))))\n\u001b[0;32m---> 14\u001b[0m \u001b[43mmain\u001b[49m\u001b[43m(\u001b[49m\u001b[43m)\u001b[49m\n",
      "Cell \u001b[0;32mIn[8], line 4\u001b[0m, in \u001b[0;36mmain\u001b[0;34m()\u001b[0m\n\u001b[1;32m      2\u001b[0m \u001b[38;5;28;01mdef\u001b[39;00m \u001b[38;5;21mmain\u001b[39m ():\n\u001b[1;32m      3\u001b[0m     \u001b[38;5;28;01mfor\u001b[39;00m epochIndex \u001b[38;5;129;01min\u001b[39;00m \u001b[38;5;28mrange\u001b[39m(EPOCH_NUMBER):\n\u001b[0;32m----> 4\u001b[0m         totalCorrect \u001b[38;5;241m=\u001b[39m \u001b[43mrunEpoch\u001b[49m\u001b[43m(\u001b[49m\u001b[43m)\u001b[49m\n\u001b[1;32m      5\u001b[0m         \u001b[38;5;28mprint\u001b[39m(\u001b[38;5;124m'\u001b[39m\u001b[38;5;124mtrainingAccuracy = \u001b[39m\u001b[38;5;124m'\u001b[39m, totalCorrect, (np_train_dataset[\u001b[38;5;241m0\u001b[39m]\u001b[38;5;241m.\u001b[39msize \u001b[38;5;241m/\u001b[39m\u001b[38;5;241m/\u001b[39m (\u001b[38;5;241m28\u001b[39m \u001b[38;5;241m*\u001b[39m \u001b[38;5;241m28\u001b[39m)), totalCorrect \u001b[38;5;241m/\u001b[39m (np_train_dataset[\u001b[38;5;241m0\u001b[39m]\u001b[38;5;241m.\u001b[39msize \u001b[38;5;241m/\u001b[39m\u001b[38;5;241m/\u001b[39m (\u001b[38;5;241m28\u001b[39m \u001b[38;5;241m*\u001b[39m \u001b[38;5;241m28\u001b[39m)))\n\u001b[1;32m      6\u001b[0m         correctlyPredicted \u001b[38;5;241m=\u001b[39m \u001b[38;5;241m0\u001b[39m\n",
      "Cell \u001b[0;32mIn[7], line 61\u001b[0m, in \u001b[0;36mrunEpoch\u001b[0;34m(batch_size)\u001b[0m\n\u001b[1;32m     56\u001b[0m batchEndIndex \u001b[38;5;241m=\u001b[39m (batchIndex \u001b[38;5;241m+\u001b[39m \u001b[38;5;241m1\u001b[39m) \u001b[38;5;241m*\u001b[39m batch_size\n\u001b[1;32m     57\u001b[0m batch_train_dataset \u001b[38;5;241m=\u001b[39m [np_train_dataset[\u001b[38;5;241m0\u001b[39m][batchStartIndex:batchEndIndex], \n\u001b[1;32m     58\u001b[0m                        np_train_dataset[\u001b[38;5;241m1\u001b[39m][batchStartIndex:batchEndIndex]]\n\u001b[0;32m---> 61\u001b[0m gradients_accumulated, bias_accumulated, batchCorrect \u001b[38;5;241m=\u001b[39m \u001b[43mrunBatch\u001b[49m\u001b[43m(\u001b[49m\u001b[43mbatch_train_dataset\u001b[49m\u001b[43m)\u001b[49m\n\u001b[1;32m     63\u001b[0m \u001b[38;5;28;01mfor\u001b[39;00m i, perceptron \u001b[38;5;129;01min\u001b[39;00m \u001b[38;5;28menumerate\u001b[39m(perceptrons):\n\u001b[1;32m     64\u001b[0m     perceptron\u001b[38;5;241m.\u001b[39mweights \u001b[38;5;241m+\u001b[39m\u001b[38;5;241m=\u001b[39m LEARNING_RATE \u001b[38;5;241m*\u001b[39m gradients_accumulated[i]\n",
      "Cell \u001b[0;32mIn[7], line 43\u001b[0m, in \u001b[0;36mrunBatch\u001b[0;34m(np_batch_train_dataset)\u001b[0m\n\u001b[1;32m     40\u001b[0m         batchCorrectly \u001b[38;5;241m+\u001b[39m\u001b[38;5;241m=\u001b[39m \u001b[38;5;241m1\u001b[39m\n\u001b[1;32m     42\u001b[0m \u001b[38;5;66;03m# Use ThreadPoolExecutor to process each test in parallel\u001b[39;00m\n\u001b[0;32m---> 43\u001b[0m \u001b[43m\u001b[49m\u001b[38;5;28;43;01mwith\u001b[39;49;00m\u001b[43m \u001b[49m\u001b[43mThreadPoolExecutor\u001b[49m\u001b[43m(\u001b[49m\u001b[43m)\u001b[49m\u001b[43m \u001b[49m\u001b[38;5;28;43;01mas\u001b[39;49;00m\u001b[43m \u001b[49m\u001b[43mexecutor\u001b[49m\u001b[43m:\u001b[49m\n\u001b[1;32m     44\u001b[0m \u001b[43m    \u001b[49m\u001b[43mexecutor\u001b[49m\u001b[38;5;241;43m.\u001b[39;49m\u001b[43mmap\u001b[49m\u001b[43m(\u001b[49m\u001b[43mprocess_test\u001b[49m\u001b[43m,\u001b[49m\u001b[43m \u001b[49m\u001b[38;5;28;43mrange\u001b[39;49m\u001b[43m(\u001b[49m\u001b[43mbatch_size\u001b[49m\u001b[43m)\u001b[49m\u001b[43m)\u001b[49m\n\u001b[1;32m     46\u001b[0m \u001b[38;5;28;01mreturn\u001b[39;00m gradients_accumulated, bias_accumulated, batchCorrectly\n",
      "File \u001b[0;32m/opt/homebrew/Cellar/python@3.11/3.11.6/Frameworks/Python.framework/Versions/3.11/lib/python3.11/concurrent/futures/_base.py:647\u001b[0m, in \u001b[0;36mExecutor.__exit__\u001b[0;34m(self, exc_type, exc_val, exc_tb)\u001b[0m\n\u001b[1;32m    646\u001b[0m \u001b[38;5;28;01mdef\u001b[39;00m \u001b[38;5;21m__exit__\u001b[39m(\u001b[38;5;28mself\u001b[39m, exc_type, exc_val, exc_tb):\n\u001b[0;32m--> 647\u001b[0m     \u001b[38;5;28;43mself\u001b[39;49m\u001b[38;5;241;43m.\u001b[39;49m\u001b[43mshutdown\u001b[49m\u001b[43m(\u001b[49m\u001b[43mwait\u001b[49m\u001b[38;5;241;43m=\u001b[39;49m\u001b[38;5;28;43;01mTrue\u001b[39;49;00m\u001b[43m)\u001b[49m\n\u001b[1;32m    648\u001b[0m     \u001b[38;5;28;01mreturn\u001b[39;00m \u001b[38;5;28;01mFalse\u001b[39;00m\n",
      "File \u001b[0;32m/opt/homebrew/Cellar/python@3.11/3.11.6/Frameworks/Python.framework/Versions/3.11/lib/python3.11/concurrent/futures/thread.py:235\u001b[0m, in \u001b[0;36mThreadPoolExecutor.shutdown\u001b[0;34m(self, wait, cancel_futures)\u001b[0m\n\u001b[1;32m    233\u001b[0m \u001b[38;5;28;01mif\u001b[39;00m wait:\n\u001b[1;32m    234\u001b[0m     \u001b[38;5;28;01mfor\u001b[39;00m t \u001b[38;5;129;01min\u001b[39;00m \u001b[38;5;28mself\u001b[39m\u001b[38;5;241m.\u001b[39m_threads:\n\u001b[0;32m--> 235\u001b[0m         \u001b[43mt\u001b[49m\u001b[38;5;241;43m.\u001b[39;49m\u001b[43mjoin\u001b[49m\u001b[43m(\u001b[49m\u001b[43m)\u001b[49m\n",
      "File \u001b[0;32m/opt/homebrew/Cellar/python@3.11/3.11.6/Frameworks/Python.framework/Versions/3.11/lib/python3.11/threading.py:1119\u001b[0m, in \u001b[0;36mThread.join\u001b[0;34m(self, timeout)\u001b[0m\n\u001b[1;32m   1116\u001b[0m     \u001b[38;5;28;01mraise\u001b[39;00m \u001b[38;5;167;01mRuntimeError\u001b[39;00m(\u001b[38;5;124m\"\u001b[39m\u001b[38;5;124mcannot join current thread\u001b[39m\u001b[38;5;124m\"\u001b[39m)\n\u001b[1;32m   1118\u001b[0m \u001b[38;5;28;01mif\u001b[39;00m timeout \u001b[38;5;129;01mis\u001b[39;00m \u001b[38;5;28;01mNone\u001b[39;00m:\n\u001b[0;32m-> 1119\u001b[0m     \u001b[38;5;28;43mself\u001b[39;49m\u001b[38;5;241;43m.\u001b[39;49m\u001b[43m_wait_for_tstate_lock\u001b[49m\u001b[43m(\u001b[49m\u001b[43m)\u001b[49m\n\u001b[1;32m   1120\u001b[0m \u001b[38;5;28;01melse\u001b[39;00m:\n\u001b[1;32m   1121\u001b[0m     \u001b[38;5;66;03m# the behavior of a negative timeout isn't documented, but\u001b[39;00m\n\u001b[1;32m   1122\u001b[0m     \u001b[38;5;66;03m# historically .join(timeout=x) for x<0 has acted as if timeout=0\u001b[39;00m\n\u001b[1;32m   1123\u001b[0m     \u001b[38;5;28mself\u001b[39m\u001b[38;5;241m.\u001b[39m_wait_for_tstate_lock(timeout\u001b[38;5;241m=\u001b[39m\u001b[38;5;28mmax\u001b[39m(timeout, \u001b[38;5;241m0\u001b[39m))\n",
      "File \u001b[0;32m/opt/homebrew/Cellar/python@3.11/3.11.6/Frameworks/Python.framework/Versions/3.11/lib/python3.11/threading.py:1139\u001b[0m, in \u001b[0;36mThread._wait_for_tstate_lock\u001b[0;34m(self, block, timeout)\u001b[0m\n\u001b[1;32m   1136\u001b[0m     \u001b[38;5;28;01mreturn\u001b[39;00m\n\u001b[1;32m   1138\u001b[0m \u001b[38;5;28;01mtry\u001b[39;00m:\n\u001b[0;32m-> 1139\u001b[0m     \u001b[38;5;28;01mif\u001b[39;00m \u001b[43mlock\u001b[49m\u001b[38;5;241;43m.\u001b[39;49m\u001b[43macquire\u001b[49m\u001b[43m(\u001b[49m\u001b[43mblock\u001b[49m\u001b[43m,\u001b[49m\u001b[43m \u001b[49m\u001b[43mtimeout\u001b[49m\u001b[43m)\u001b[49m:\n\u001b[1;32m   1140\u001b[0m         lock\u001b[38;5;241m.\u001b[39mrelease()\n\u001b[1;32m   1141\u001b[0m         \u001b[38;5;28mself\u001b[39m\u001b[38;5;241m.\u001b[39m_stop()\n",
      "\u001b[0;31mKeyboardInterrupt\u001b[0m: "
     ]
    }
   ],
   "source": [
    "perceptrons = [Perceptron() for _ in range(10)]\n",
    "def main ():\n",
    "    for epochIndex in range(EPOCH_NUMBER):\n",
    "        totalCorrect = runEpoch()\n",
    "        print('trainingAccuracy = ', totalCorrect, (np_train_dataset[0].size // (28 * 28)), totalCorrect / (np_train_dataset[0].size // (28 * 28)))\n",
    "        correctlyPredicted = 0\n",
    "        tests = np_test_dataset[0]\n",
    "        correctPredictions = np_test_dataset[1]\n",
    "        for index in range(tests.size // (28 * 28)):\n",
    "            prediction = runTest(tests[index])\n",
    "            if prediction == correctPredictions[index]:\n",
    "                correctlyPredicted += 1\n",
    "        print('Accuracy on tests at epoch ' + str(epochIndex) + \" : \" + str(correctlyPredicted / (tests.size // (28 * 28))))\n",
    "main()"
   ]
  },
  {
   "cell_type": "code",
   "execution_count": null,
   "id": "28b72d32-237e-49e7-a4c9-5cd4874d0653",
   "metadata": {},
   "outputs": [],
   "source": []
  }
 ],
 "metadata": {
  "kernelspec": {
   "display_name": "Python 3 (ipykernel)",
   "language": "python",
   "name": "python3"
  },
  "language_info": {
   "codemirror_mode": {
    "name": "ipython",
    "version": 3
   },
   "file_extension": ".py",
   "mimetype": "text/x-python",
   "name": "python",
   "nbconvert_exporter": "python",
   "pygments_lexer": "ipython3",
   "version": "3.11.6"
  }
 },
 "nbformat": 4,
 "nbformat_minor": 5
}
