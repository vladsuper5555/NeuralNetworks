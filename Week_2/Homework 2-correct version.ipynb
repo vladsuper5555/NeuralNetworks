{
 "cells": [
  {
   "cell_type": "markdown",
   "id": "bd8ac041-47b9-48a9-b6a7-94d33cad4b68",
   "metadata": {},
   "source": [
    "## 1. Downloading the dataset"
   ]
  },
  {
   "cell_type": "code",
   "execution_count": 1,
   "id": "fcbc5e5a-cc00-4601-938d-67cdcbd6d084",
   "metadata": {},
   "outputs": [],
   "source": [
    "import pip\n",
    "def install(package):\n",
    "    pip.main(['install', package])"
   ]
  },
  {
   "cell_type": "code",
   "execution_count": 2,
   "id": "da64f933-e618-486d-a340-e5e29bc46685",
   "metadata": {},
   "outputs": [
    {
     "name": "stderr",
     "output_type": "stream",
     "text": [
      "WARNING: pip is being invoked by an old script wrapper. This will fail in a future version of pip.\n",
      "Please see https://github.com/pypa/pip/issues/5599 for advice on fixing the underlying issue.\n",
      "To avoid this problem you can invoke Python with '-m pip' instead of running pip directly.\n"
     ]
    },
    {
     "name": "stdout",
     "output_type": "stream",
     "text": [
      "module 'torchvsion' is not installed\n"
     ]
    },
    {
     "data": {
      "text/html": [
       "<pre style=\"white-space:pre;overflow-x:auto;line-height:normal;font-family:Menlo,'DejaVu Sans Mono',consolas,'Courier New',monospace\"><span style=\"color: #808000; text-decoration-color: #808000\">WARNING: Ignoring invalid distribution ~heel (C:\\Python311\\Lib\\site-packages)\n",
       "</span></pre>\n"
      ],
      "text/plain": [
       "\u001b[33mWARNING: Ignoring invalid distribution ~heel (C:\\Python311\\Lib\\site-packages)\u001b[0m\u001b[33m\n",
       "\u001b[0m"
      ]
     },
     "metadata": {},
     "output_type": "display_data"
    },
    {
     "data": {
      "text/html": [
       "<pre style=\"white-space:pre;overflow-x:auto;line-height:normal;font-family:Menlo,'DejaVu Sans Mono',consolas,'Courier New',monospace\">Collecting torchvision\n",
       "</pre>\n"
      ],
      "text/plain": [
       "Collecting torchvision\n"
      ]
     },
     "metadata": {},
     "output_type": "display_data"
    },
    {
     "data": {
      "text/html": [
       "<pre style=\"white-space:pre;overflow-x:auto;line-height:normal;font-family:Menlo,'DejaVu Sans Mono',consolas,'Courier New',monospace\">  Obtaining dependency information for torchvision from https://files.pythonhosted.org/packages/b2/1b/b8eb51f87626c125cfa81f07488ab277e68e1c021c6cf2750d779eb61358/torchvision-0.20.0-cp311-cp311-win_amd64.whl.metadata\n",
       "</pre>\n"
      ],
      "text/plain": [
       "  Obtaining dependency information for torchvision from https://files.pythonhosted.org/packages/b2/1b/b8eb51f87626c125cfa81f07488ab277e68e1c021c6cf2750d779eb61358/torchvision-0.20.0-cp311-cp311-win_amd64.whl.metadata\n"
      ]
     },
     "metadata": {},
     "output_type": "display_data"
    },
    {
     "data": {
      "text/html": [
       "<pre style=\"white-space:pre;overflow-x:auto;line-height:normal;font-family:Menlo,'DejaVu Sans Mono',consolas,'Courier New',monospace\">  Using cached torchvision-0.20.0-cp311-cp311-win_amd64.whl.metadata (6.2 kB)\n",
       "</pre>\n"
      ],
      "text/plain": [
       "  Using cached torchvision-0.20.0-cp311-cp311-win_amd64.whl.metadata (6.2 kB)\n"
      ]
     },
     "metadata": {},
     "output_type": "display_data"
    },
    {
     "data": {
      "text/html": [
       "<pre style=\"white-space:pre;overflow-x:auto;line-height:normal;font-family:Menlo,'DejaVu Sans Mono',consolas,'Courier New',monospace\">Requirement already satisfied: numpy in c:\\python311\\lib\\site-packages (from torchvision) (1.25.2)\n",
       "</pre>\n"
      ],
      "text/plain": [
       "Requirement already satisfied: numpy in c:\\python311\\lib\\site-packages (from torchvision) (1.25.2)\n"
      ]
     },
     "metadata": {},
     "output_type": "display_data"
    },
    {
     "data": {
      "text/html": [
       "<pre style=\"white-space:pre;overflow-x:auto;line-height:normal;font-family:Menlo,'DejaVu Sans Mono',consolas,'Courier New',monospace\">Requirement already satisfied: torch==2.5.0 in c:\\python311\\lib\\site-packages (from torchvision) (2.5.0)\n",
       "</pre>\n"
      ],
      "text/plain": [
       "Requirement already satisfied: torch==2.5.0 in c:\\python311\\lib\\site-packages (from torchvision) (2.5.0)\n"
      ]
     },
     "metadata": {},
     "output_type": "display_data"
    },
    {
     "data": {
      "text/html": [
       "<pre style=\"white-space:pre;overflow-x:auto;line-height:normal;font-family:Menlo,'DejaVu Sans Mono',consolas,'Courier New',monospace\">Requirement already satisfied: pillow!=8.3.*,&gt;=5.3.0 in c:\\python311\\lib\\site-packages (from torchvision) (10.4.0)\n",
       "</pre>\n"
      ],
      "text/plain": [
       "Requirement already satisfied: pillow!=8.3.*,>=5.3.0 in c:\\python311\\lib\\site-packages (from torchvision) (10.4.0)\n"
      ]
     },
     "metadata": {},
     "output_type": "display_data"
    },
    {
     "data": {
      "text/html": [
       "<pre style=\"white-space:pre;overflow-x:auto;line-height:normal;font-family:Menlo,'DejaVu Sans Mono',consolas,'Courier New',monospace\">Requirement already satisfied: filelock in c:\\python311\\lib\\site-packages (from torch==2.5.0-&gt;torchvision) (3.15.4)\n",
       "</pre>\n"
      ],
      "text/plain": [
       "Requirement already satisfied: filelock in c:\\python311\\lib\\site-packages (from torch==2.5.0->torchvision) (3.15.4)\n"
      ]
     },
     "metadata": {},
     "output_type": "display_data"
    },
    {
     "data": {
      "text/html": [
       "<pre style=\"white-space:pre;overflow-x:auto;line-height:normal;font-family:Menlo,'DejaVu Sans Mono',consolas,'Courier New',monospace\">Requirement already satisfied: typing-extensions&gt;=4.8.0 in c:\\python311\\lib\\site-packages (from torch==2.5.0-&gt;torchvision) (4.12.2)\n",
       "</pre>\n"
      ],
      "text/plain": [
       "Requirement already satisfied: typing-extensions>=4.8.0 in c:\\python311\\lib\\site-packages (from torch==2.5.0->torchvision) (4.12.2)\n"
      ]
     },
     "metadata": {},
     "output_type": "display_data"
    },
    {
     "data": {
      "text/html": [
       "<pre style=\"white-space:pre;overflow-x:auto;line-height:normal;font-family:Menlo,'DejaVu Sans Mono',consolas,'Courier New',monospace\">Requirement already satisfied: networkx in c:\\python311\\lib\\site-packages (from torch==2.5.0-&gt;torchvision) (3.2.1)\n",
       "</pre>\n"
      ],
      "text/plain": [
       "Requirement already satisfied: networkx in c:\\python311\\lib\\site-packages (from torch==2.5.0->torchvision) (3.2.1)\n"
      ]
     },
     "metadata": {},
     "output_type": "display_data"
    },
    {
     "data": {
      "text/html": [
       "<pre style=\"white-space:pre;overflow-x:auto;line-height:normal;font-family:Menlo,'DejaVu Sans Mono',consolas,'Courier New',monospace\">Requirement already satisfied: jinja2 in c:\\python311\\lib\\site-packages (from torch==2.5.0-&gt;torchvision) (3.1.4)\n",
       "</pre>\n"
      ],
      "text/plain": [
       "Requirement already satisfied: jinja2 in c:\\python311\\lib\\site-packages (from torch==2.5.0->torchvision) (3.1.4)\n"
      ]
     },
     "metadata": {},
     "output_type": "display_data"
    },
    {
     "data": {
      "text/html": [
       "<pre style=\"white-space:pre;overflow-x:auto;line-height:normal;font-family:Menlo,'DejaVu Sans Mono',consolas,'Courier New',monospace\">Requirement already satisfied: fsspec in c:\\python311\\lib\\site-packages (from torch==2.5.0-&gt;torchvision) (2024.6.1)\n",
       "</pre>\n"
      ],
      "text/plain": [
       "Requirement already satisfied: fsspec in c:\\python311\\lib\\site-packages (from torch==2.5.0->torchvision) (2024.6.1)\n"
      ]
     },
     "metadata": {},
     "output_type": "display_data"
    },
    {
     "data": {
      "text/html": [
       "<pre style=\"white-space:pre;overflow-x:auto;line-height:normal;font-family:Menlo,'DejaVu Sans Mono',consolas,'Courier New',monospace\">Requirement already satisfied: sympy==1.13.1 in c:\\python311\\lib\\site-packages (from torch==2.5.0-&gt;torchvision) (1.13.1)\n",
       "</pre>\n"
      ],
      "text/plain": [
       "Requirement already satisfied: sympy==1.13.1 in c:\\python311\\lib\\site-packages (from torch==2.5.0->torchvision) (1.13.1)\n"
      ]
     },
     "metadata": {},
     "output_type": "display_data"
    },
    {
     "data": {
      "text/html": [
       "<pre style=\"white-space:pre;overflow-x:auto;line-height:normal;font-family:Menlo,'DejaVu Sans Mono',consolas,'Courier New',monospace\">Requirement already satisfied: mpmath&lt;1.4,&gt;=1.1.0 in c:\\python311\\lib\\site-packages (from sympy==1.13.1-&gt;torch==2.5.0-&gt;torchvision) (1.3.0)\n",
       "</pre>\n"
      ],
      "text/plain": [
       "Requirement already satisfied: mpmath<1.4,>=1.1.0 in c:\\python311\\lib\\site-packages (from sympy==1.13.1->torch==2.5.0->torchvision) (1.3.0)\n"
      ]
     },
     "metadata": {},
     "output_type": "display_data"
    },
    {
     "data": {
      "text/html": [
       "<pre style=\"white-space:pre;overflow-x:auto;line-height:normal;font-family:Menlo,'DejaVu Sans Mono',consolas,'Courier New',monospace\">Requirement already satisfied: MarkupSafe&gt;=2.0 in c:\\python311\\lib\\site-packages (from jinja2-&gt;torch==2.5.0-&gt;torchvision) (2.1.5)\n",
       "</pre>\n"
      ],
      "text/plain": [
       "Requirement already satisfied: MarkupSafe>=2.0 in c:\\python311\\lib\\site-packages (from jinja2->torch==2.5.0->torchvision) (2.1.5)\n"
      ]
     },
     "metadata": {},
     "output_type": "display_data"
    },
    {
     "data": {
      "text/html": [
       "<pre style=\"white-space:pre;overflow-x:auto;line-height:normal;font-family:Menlo,'DejaVu Sans Mono',consolas,'Courier New',monospace\">Using cached torchvision-0.20.0-cp311-cp311-win_amd64.whl (1.6 MB)\n",
       "</pre>\n"
      ],
      "text/plain": [
       "Using cached torchvision-0.20.0-cp311-cp311-win_amd64.whl (1.6 MB)\n"
      ]
     },
     "metadata": {},
     "output_type": "display_data"
    },
    {
     "data": {
      "text/html": [
       "<pre style=\"white-space:pre;overflow-x:auto;line-height:normal;font-family:Menlo,'DejaVu Sans Mono',consolas,'Courier New',monospace\"><span style=\"color: #808000; text-decoration-color: #808000\">WARNING: Ignoring invalid distribution ~heel (C:\\Python311\\Lib\\site-packages)\n",
       "</span></pre>\n"
      ],
      "text/plain": [
       "\u001b[33mWARNING: Ignoring invalid distribution ~heel (C:\\Python311\\Lib\\site-packages)\u001b[0m\u001b[33m\n",
       "\u001b[0m"
      ]
     },
     "metadata": {},
     "output_type": "display_data"
    },
    {
     "data": {
      "text/html": [
       "<pre style=\"white-space:pre;overflow-x:auto;line-height:normal;font-family:Menlo,'DejaVu Sans Mono',consolas,'Courier New',monospace\">Installing collected packages: torchvision\n",
       "</pre>\n"
      ],
      "text/plain": [
       "Installing collected packages: torchvision\n"
      ]
     },
     "metadata": {},
     "output_type": "display_data"
    },
    {
     "data": {
      "text/html": [
       "<pre style=\"white-space:pre;overflow-x:auto;line-height:normal;font-family:Menlo,'DejaVu Sans Mono',consolas,'Courier New',monospace\">Successfully installed torchvision-0.20.0\n",
       "</pre>\n"
      ],
      "text/plain": [
       "Successfully installed torchvision-0.20.0\n"
      ]
     },
     "metadata": {},
     "output_type": "display_data"
    },
    {
     "data": {
      "text/html": [
       "<pre style=\"white-space:pre;overflow-x:auto;line-height:normal;font-family:Menlo,'DejaVu Sans Mono',consolas,'Courier New',monospace\"><span style=\"color: #808000; text-decoration-color: #808000\">WARNING: There was an error checking the latest version of pip.\n",
       "</span></pre>\n"
      ],
      "text/plain": [
       "\u001b[33mWARNING: There was an error checking the latest version of pip.\u001b[0m\u001b[33m\n",
       "\u001b[0m"
      ]
     },
     "metadata": {},
     "output_type": "display_data"
    }
   ],
   "source": [
    "try:\n",
    "    from torchvision.datasets import MNIST\n",
    "    print(\"module 'mutagen' is installed\")\n",
    "except ModuleNotFoundError:\n",
    "    print(\"module 'torchvsion' is not installed\")\n",
    "    # or\n",
    "    install(\"torchvision\") # the install function from the question"
   ]
  },
  {
   "cell_type": "code",
   "execution_count": 3,
   "id": "d571b73b-9abe-48c9-ae9e-47b991cb05df",
   "metadata": {},
   "outputs": [],
   "source": [
    "import numpy as np\n",
    "from torchvision.datasets import MNIST\n",
    "train_dataset = None\n",
    "test_dataset = None\n",
    "def download_mnist(is_train: bool):\n",
    "    if is_train == True:\n",
    "        return MNIST(root='./data', transform=lambda x: np.array(x).flatten(), download=True, train=is_train)\n",
    "    else: \n",
    "        return MNIST(root='./data', transform=lambda x: np.array(x).flatten(), download=True, train=is_train)\n",
    "\n",
    "train_dataset = download_mnist(True)\n",
    "test_dataset = download_mnist(False)"
   ]
  },
  {
   "cell_type": "markdown",
   "id": "3b0377ca-ed0a-4e48-a07c-638b64f559ac",
   "metadata": {},
   "source": [
    "## 2. Processing the dataset"
   ]
  },
  {
   "cell_type": "code",
   "execution_count": 4,
   "id": "c2af5bed-8957-4a9d-987b-60fd8dbefeb9",
   "metadata": {},
   "outputs": [],
   "source": [
    "def processData(dataset):\n",
    "    np_dataset_images = np.array([object[0] for object in dataset], dtype = np.bool_).reshape(len(dataset), 28 * 28)\n",
    "    np_dataset_labels = np.array([object[1] for object in dataset], dtype = np.uint8)\n",
    "    \n",
    "    return np_dataset_images, np_dataset_labels\n",
    "\n",
    "np_train_dataset = processData(train_dataset)\n",
    "np_test_dataset = processData(test_dataset)"
   ]
  },
  {
   "cell_type": "markdown",
   "id": "2ad8bf82-7085-4d0f-88c7-4541b201737c",
   "metadata": {},
   "source": [
    "## 3. Implementing a perceptron handler\n",
    "We need to have the follwing:\n",
    "\n",
    "    - an array of the weights of the system\n",
    "    - function to propagate forward and find the results\n",
    "    - function to recalculate the weights based on the results (backwards propagation)"
   ]
  },
  {
   "cell_type": "code",
   "execution_count": 9,
   "id": "4c949c6f-0e4b-495d-aa3a-db7000ed533e",
   "metadata": {},
   "outputs": [],
   "source": [
    "import random \n",
    "class Perceptron:\n",
    "    def __init__(self):\n",
    "        self.weights = np.array([random.random() for _ in range(28 * 28)])\n",
    "        self.bias = random.random()\n",
    "        \n",
    "    def forwardPropagation (self, inputs): \n",
    "        z = np.sum(self.weights * inputs) + self.bias\n",
    "        return z\n",
    "\n",
    "    def updateWeights(self, vectorToAdd):\n",
    "        self.weights += vectorToAdd\n",
    "        \n",
    "\n",
    "\n",
    "    def updateBias (self, valueToAdd):\n",
    "        self.bias += valueToAdd\n",
    "\n",
    "    def backPropagation(self, learningRate, gradient, inputVector):\n",
    "        self.updateWeights(learningRate * gradient * inputVector)\n",
    "        self.updateBias(learningRate * gradient)"
   ]
  },
  {
   "cell_type": "markdown",
   "id": "6b85fb16-8dd5-4cbb-a0ea-22ebea03e9b3",
   "metadata": {},
   "source": [
    "## 4. Defining the hyper parameters\n",
    "1. The learning rate -> the rate at which we want to apply the gradient to each feature\n",
    "2. The epoch number -> the number of times the algorithm runs\n",
    "3. Additionally we will include here the e constant"
   ]
  },
  {
   "cell_type": "code",
   "execution_count": 13,
   "id": "cc9f82ad-cca4-4278-90c1-f078303ffb08",
   "metadata": {},
   "outputs": [],
   "source": [
    "LEARNING_RATE = 0.001\n",
    "EPOCH_NUMBER = 100\n",
    "E_CONSTANT = 2.7182818284"
   ]
  },
  {
   "cell_type": "markdown",
   "id": "37a63c36-2f83-44e2-a81c-406154e5258f",
   "metadata": {},
   "source": [
    "## 5. Running the algorithm\n",
    "- we will have a function for running epoch\n",
    "- we will have a function for running a batch\n"
   ]
  },
  {
   "cell_type": "code",
   "execution_count": 14,
   "id": "b19543de-f002-4ca7-8509-5b2aee1eb942",
   "metadata": {},
   "outputs": [],
   "source": [
    "import concurrent.futures\n",
    "\n",
    "def runBatch(np_batch_train_dataset):\n",
    "    batch_size = np_batch_train_dataset[0].shape[0]\n",
    "    num_classes = len(perceptrons)\n",
    "\n",
    "    gradients_accumulated = [np.zeros_like(perceptron.weights) for perceptron in perceptrons]\n",
    "    bias_accumulated = [0 for _ in perceptrons]\n",
    "    batchCorrectly = 0\n",
    "    \n",
    "    for testIndex in range(batch_size):\n",
    "        z = [perceptron.forwardPropagation(np_batch_train_dataset[0][testIndex]) for perceptron in perceptrons]\n",
    "        z_max = np.max(z)\n",
    "        z_stable = z - z_max\n",
    "        softMaxArray = np.exp(z_stable) / np.sum(np.exp(z_stable))\n",
    "\n",
    "        correctPredictionValue = np_batch_train_dataset[1][testIndex]\n",
    "        correctPredictionArray = np.zeros(num_classes)\n",
    "        correctPredictionArray[correctPredictionValue] = 1\n",
    "\n",
    "        errorArray = softMaxArray - correctPredictionArray\n",
    "\n",
    "        for i, perceptron in enumerate(perceptrons):\n",
    "            gradients_accumulated[i] += -errorArray[i] * np_batch_train_dataset[0][testIndex]\n",
    "            bias_accumulated[i] += -errorArray[i]\n",
    "\n",
    "        if correctPredictionValue == np.argmax(softMaxArray):\n",
    "            batchCorrectly += 1\n",
    "\n",
    "    return gradients_accumulated, bias_accumulated, batchCorrectly\n",
    "\n",
    "def runEpoch(batch_size=100):\n",
    "    total_samples = np_train_dataset[0].shape[0]\n",
    "    batchCount = total_samples // batch_size\n",
    "    totalCorrect = 0\n",
    "\n",
    "    epoch_gradients_accumulated = [np.zeros_like(perceptron.weights) for perceptron in perceptrons]\n",
    "    epoch_bias_accumulated = [0 for _ in perceptrons]\n",
    "\n",
    "\n",
    "    for batchIndex in range(batchCount):\n",
    "        batchStartIndex = batchIndex * batch_size\n",
    "        batchEndIndex = (batchIndex + 1) * batch_size\n",
    "        batch_train_dataset = [np_train_dataset[0][batchStartIndex:batchEndIndex], \n",
    "                               np_train_dataset[1][batchStartIndex:batchEndIndex]]\n",
    "\n",
    "\n",
    "        gradients_accumulated, bias_accumulated, batchCorrect = runBatch(batch_train_dataset)\n",
    "\n",
    "        for i, perceptron in enumerate(perceptrons):\n",
    "            perceptron.weights += LEARNING_RATE * gradients_accumulated[i]\n",
    "            perceptron.bias += LEARNING_RATE * bias_accumulated[i]\n",
    "\n",
    "\n",
    "        totalCorrect += batchCorrect\n",
    "\n",
    "    for i, perceptron in enumerate(perceptrons):\n",
    "        perceptron.weights -= LEARNING_RATE * epoch_gradients_accumulated[i]\n",
    "        perceptron.bias -= LEARNING_RATE * epoch_bias_accumulated[i]\n",
    "\n",
    "    return totalCorrect\n",
    "    \n",
    "def runTest(inputs):\n",
    "    z = [perceptron.forwardPropagation(inputs) for perceptron in perceptrons]\n",
    "    z_max = np.max(z)\n",
    "    z_stable = z - z_max  \n",
    "    softMaxArray = np.exp(z_stable) / np.sum(np.exp(z_stable))\n",
    "    max_index = max_index = np.argmax(softMaxArray)\n",
    "    return max_index\n"
   ]
  },
  {
   "cell_type": "markdown",
   "id": "cc4c5def-13a1-4fbb-b26b-0e0c336937e2",
   "metadata": {},
   "source": [
    "## 6. Running the main function and initializing the perceptrons"
   ]
  },
  {
   "cell_type": "code",
   "execution_count": null,
   "id": "f88bc896-432e-4990-8f17-1af2a1575bee",
   "metadata": {
    "scrolled": true
   },
   "outputs": [
    {
     "name": "stdout",
     "output_type": "stream",
     "text": [
      "trainingAccuracy =  46130 60000 0.7688333333333334\n",
      "Accuracy on tests at epoch 0 : 0.8589\n",
      "trainingAccuracy =  51989 60000 0.8664833333333334\n",
      "Accuracy on tests at epoch 1 : 0.8818\n",
      "trainingAccuracy =  52903 60000 0.8817166666666667\n",
      "Accuracy on tests at epoch 2 : 0.8907\n",
      "trainingAccuracy =  53415 60000 0.89025\n",
      "Accuracy on tests at epoch 3 : 0.8977\n",
      "trainingAccuracy =  53712 60000 0.8952\n",
      "Accuracy on tests at epoch 4 : 0.9008\n",
      "trainingAccuracy =  53961 60000 0.89935\n",
      "Accuracy on tests at epoch 5 : 0.9035\n",
      "trainingAccuracy =  54149 60000 0.9024833333333333\n",
      "Accuracy on tests at epoch 6 : 0.9044\n",
      "trainingAccuracy =  54312 60000 0.9052\n",
      "Accuracy on tests at epoch 7 : 0.9062\n",
      "trainingAccuracy =  54431 60000 0.9071833333333333\n",
      "Accuracy on tests at epoch 8 : 0.9072\n",
      "trainingAccuracy =  54544 60000 0.9090666666666667\n",
      "Accuracy on tests at epoch 9 : 0.9082\n",
      "trainingAccuracy =  54638 60000 0.9106333333333333\n",
      "Accuracy on tests at epoch 10 : 0.9097\n",
      "trainingAccuracy =  54697 60000 0.9116166666666666\n",
      "Accuracy on tests at epoch 11 : 0.9107\n",
      "trainingAccuracy =  54779 60000 0.9129833333333334\n",
      "Accuracy on tests at epoch 12 : 0.9112\n",
      "trainingAccuracy =  54838 60000 0.9139666666666667\n",
      "Accuracy on tests at epoch 13 : 0.9122\n",
      "trainingAccuracy =  54904 60000 0.9150666666666667\n",
      "Accuracy on tests at epoch 14 : 0.914\n",
      "trainingAccuracy =  54963 60000 0.91605\n",
      "Accuracy on tests at epoch 15 : 0.9144\n",
      "trainingAccuracy =  55003 60000 0.9167166666666666\n",
      "Accuracy on tests at epoch 16 : 0.9147\n",
      "trainingAccuracy =  55040 60000 0.9173333333333333\n",
      "Accuracy on tests at epoch 17 : 0.9151\n",
      "trainingAccuracy =  55094 60000 0.9182333333333333\n",
      "Accuracy on tests at epoch 18 : 0.9157\n",
      "trainingAccuracy =  55117 60000 0.9186166666666666\n",
      "Accuracy on tests at epoch 19 : 0.9157\n",
      "trainingAccuracy =  55144 60000 0.9190666666666667\n",
      "Accuracy on tests at epoch 20 : 0.9158\n",
      "trainingAccuracy =  55185 60000 0.91975\n",
      "Accuracy on tests at epoch 21 : 0.9159\n",
      "trainingAccuracy =  55211 60000 0.9201833333333334\n",
      "Accuracy on tests at epoch 22 : 0.9163\n",
      "trainingAccuracy =  55229 60000 0.9204833333333333\n",
      "Accuracy on tests at epoch 23 : 0.9158\n",
      "trainingAccuracy =  55251 60000 0.92085\n",
      "Accuracy on tests at epoch 24 : 0.916\n",
      "trainingAccuracy =  55274 60000 0.9212333333333333\n",
      "Accuracy on tests at epoch 25 : 0.9155\n",
      "trainingAccuracy =  55296 60000 0.9216\n",
      "Accuracy on tests at epoch 26 : 0.916\n",
      "trainingAccuracy =  55312 60000 0.9218666666666666\n",
      "Accuracy on tests at epoch 27 : 0.9163\n",
      "trainingAccuracy =  55335 60000 0.92225\n",
      "Accuracy on tests at epoch 28 : 0.9162\n",
      "trainingAccuracy =  55341 60000 0.92235\n",
      "Accuracy on tests at epoch 29 : 0.9159\n",
      "trainingAccuracy =  55345 60000 0.9224166666666667\n",
      "Accuracy on tests at epoch 30 : 0.9161\n",
      "trainingAccuracy =  55366 60000 0.9227666666666666\n",
      "Accuracy on tests at epoch 31 : 0.9161\n",
      "trainingAccuracy =  55379 60000 0.9229833333333334\n",
      "Accuracy on tests at epoch 32 : 0.9161\n",
      "trainingAccuracy =  55392 60000 0.9232\n",
      "Accuracy on tests at epoch 33 : 0.9161\n",
      "trainingAccuracy =  55403 60000 0.9233833333333333\n",
      "Accuracy on tests at epoch 34 : 0.9163\n",
      "trainingAccuracy =  55418 60000 0.9236333333333333\n",
      "Accuracy on tests at epoch 35 : 0.9161\n",
      "trainingAccuracy =  55437 60000 0.92395\n",
      "Accuracy on tests at epoch 36 : 0.9162\n",
      "trainingAccuracy =  55439 60000 0.9239833333333334\n",
      "Accuracy on tests at epoch 37 : 0.9164\n",
      "trainingAccuracy =  55443 60000 0.92405\n",
      "Accuracy on tests at epoch 38 : 0.9164\n",
      "trainingAccuracy =  55445 60000 0.9240833333333334\n",
      "Accuracy on tests at epoch 39 : 0.9164\n",
      "trainingAccuracy =  55451 60000 0.9241833333333334\n",
      "Accuracy on tests at epoch 40 : 0.9165\n",
      "trainingAccuracy =  55465 60000 0.9244166666666667\n",
      "Accuracy on tests at epoch 41 : 0.9166\n",
      "trainingAccuracy =  55468 60000 0.9244666666666667\n",
      "Accuracy on tests at epoch 42 : 0.9168\n",
      "trainingAccuracy =  55483 60000 0.9247166666666666\n",
      "Accuracy on tests at epoch 43 : 0.9168\n",
      "trainingAccuracy =  55493 60000 0.9248833333333333\n",
      "Accuracy on tests at epoch 44 : 0.917\n",
      "trainingAccuracy =  55498 60000 0.9249666666666667\n",
      "Accuracy on tests at epoch 45 : 0.9176\n",
      "trainingAccuracy =  55506 60000 0.9251\n",
      "Accuracy on tests at epoch 46 : 0.9174\n",
      "trainingAccuracy =  55508 60000 0.9251333333333334\n",
      "Accuracy on tests at epoch 47 : 0.9174\n",
      "trainingAccuracy =  55516 60000 0.9252666666666667\n",
      "Accuracy on tests at epoch 48 : 0.9176\n",
      "trainingAccuracy =  55524 60000 0.9254\n",
      "Accuracy on tests at epoch 49 : 0.9179\n",
      "trainingAccuracy =  55531 60000 0.9255166666666667\n",
      "Accuracy on tests at epoch 50 : 0.9179\n",
      "trainingAccuracy =  55533 60000 0.92555\n",
      "Accuracy on tests at epoch 51 : 0.9181\n",
      "trainingAccuracy =  55536 60000 0.9256\n",
      "Accuracy on tests at epoch 52 : 0.9183\n",
      "trainingAccuracy =  55542 60000 0.9257\n",
      "Accuracy on tests at epoch 53 : 0.918\n",
      "trainingAccuracy =  55548 60000 0.9258\n",
      "Accuracy on tests at epoch 54 : 0.9179\n",
      "trainingAccuracy =  55555 60000 0.9259166666666667\n",
      "Accuracy on tests at epoch 55 : 0.9178\n",
      "trainingAccuracy =  55567 60000 0.9261166666666667\n",
      "Accuracy on tests at epoch 56 : 0.9179\n",
      "trainingAccuracy =  55577 60000 0.9262833333333333\n",
      "Accuracy on tests at epoch 57 : 0.9181\n",
      "trainingAccuracy =  55586 60000 0.9264333333333333\n",
      "Accuracy on tests at epoch 58 : 0.9181\n",
      "trainingAccuracy =  55586 60000 0.9264333333333333\n",
      "Accuracy on tests at epoch 59 : 0.9181\n",
      "trainingAccuracy =  55589 60000 0.9264833333333333\n",
      "Accuracy on tests at epoch 60 : 0.9181\n",
      "trainingAccuracy =  55594 60000 0.9265666666666666\n",
      "Accuracy on tests at epoch 61 : 0.918\n"
     ]
    }
   ],
   "source": [
    "perceptrons = [Perceptron() for _ in range(10)]\n",
    "def main ():\n",
    "    for epochIndex in range(EPOCH_NUMBER):\n",
    "        totalCorrect = runEpoch()\n",
    "        print('trainingAccuracy = ', totalCorrect, (np_train_dataset[0].size // (28 * 28)), totalCorrect / (np_train_dataset[0].size // (28 * 28)))\n",
    "        correctlyPredicted = 0\n",
    "        tests = np_test_dataset[0]\n",
    "        correctPredictions = np_test_dataset[1]\n",
    "        for index in range(tests.size // (28 * 28)):\n",
    "            prediction = runTest(tests[index])\n",
    "            if prediction == correctPredictions[index]:\n",
    "                correctlyPredicted += 1\n",
    "        print('Accuracy on tests at epoch ' + str(epochIndex) + \" : \" + str(correctlyPredicted / (tests.size // (28 * 28))))\n",
    "main()"
   ]
  },
  {
   "cell_type": "code",
   "execution_count": null,
   "id": "28b72d32-237e-49e7-a4c9-5cd4874d0653",
   "metadata": {},
   "outputs": [],
   "source": []
  }
 ],
 "metadata": {
  "kernelspec": {
   "display_name": "Python 3 (ipykernel)",
   "language": "python",
   "name": "python3"
  },
  "language_info": {
   "codemirror_mode": {
    "name": "ipython",
    "version": 3
   },
   "file_extension": ".py",
   "mimetype": "text/x-python",
   "name": "python",
   "nbconvert_exporter": "python",
   "pygments_lexer": "ipython3",
   "version": "3.11.5"
  }
 },
 "nbformat": 4,
 "nbformat_minor": 5
}
