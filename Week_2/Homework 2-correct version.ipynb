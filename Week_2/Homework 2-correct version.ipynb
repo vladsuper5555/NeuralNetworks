{
 "cells": [
  {
   "cell_type": "markdown",
   "id": "bd8ac041-47b9-48a9-b6a7-94d33cad4b68",
   "metadata": {},
   "source": [
    "## 1. Downloading the dataset"
   ]
  },
  {
   "cell_type": "code",
   "execution_count": 1,
   "id": "fcbc5e5a-cc00-4601-938d-67cdcbd6d084",
   "metadata": {},
   "outputs": [],
   "source": [
    "import pip\n",
    "def install(package):\n",
    "    pip.main(['install', package])"
   ]
  },
  {
   "cell_type": "code",
   "execution_count": 2,
   "id": "da64f933-e618-486d-a340-e5e29bc46685",
   "metadata": {},
   "outputs": [
    {
     "data": {
      "text/html": [
       "<pre style=\"white-space:pre;overflow-x:auto;line-height:normal;font-family:Menlo,'DejaVu Sans Mono',consolas,'Courier New',monospace\">   <span style=\"color: #f92672; text-decoration-color: #f92672\">━━━━━━━━━━━━━━━━━━━╸</span><span style=\"color: #3a3a3a; text-decoration-color: #3a3a3a\">━━━━━━━━━━━━━━━━━━━━</span> <span style=\"color: #008000; text-decoration-color: #008000\">266.2/536.2 kB</span> <span style=\"color: #800000; text-decoration-color: #800000\">8.1 MB/s</span> eta <span style=\"color: #008080; text-decoration-color: #008080\">0:00:01</span>\n",
       "</pre>\n"
      ],
      "text/plain": [
       "   \u001b[38;2;249;38;114m━━━━━━━━━━━━━━━━━━━\u001b[0m\u001b[38;2;249;38;114m╸\u001b[0m\u001b[38;5;237m━━━━━━━━━━━━━━━━━━━━\u001b[0m \u001b[32m266.2/536.2 kB\u001b[0m \u001b[31m8.1 MB/s\u001b[0m eta \u001b[36m0:00:01\u001b[0m\n"
      ]
     },
     "metadata": {},
     "output_type": "display_data"
    },
    {
     "data": {
      "text/html": [
       "<pre style=\"white-space:pre;overflow-x:auto;line-height:normal;font-family:Menlo,'DejaVu Sans Mono',consolas,'Courier New',monospace\"></pre>\n"
      ],
      "text/plain": []
     },
     "metadata": {},
     "output_type": "display_data"
    },
    {
     "data": {
      "text/html": [
       "<pre style=\"white-space:pre;overflow-x:auto;line-height:normal;font-family:Menlo,'DejaVu Sans Mono',consolas,'Courier New',monospace\">\n",
       "</pre>\n"
      ],
      "text/plain": [
       "\n"
      ]
     },
     "metadata": {},
     "output_type": "display_data"
    },
    {
     "data": {
      "text/html": [
       "<pre style=\"white-space:pre;overflow-x:auto;line-height:normal;font-family:Menlo,'DejaVu Sans Mono',consolas,'Courier New',monospace\">Installing collected packages: mpmath, sympy, torch, torchvision\n",
       "</pre>\n"
      ],
      "text/plain": [
       "Installing collected packages: mpmath, sympy, torch, torchvision\n"
      ]
     },
     "metadata": {},
     "output_type": "display_data"
    },
    {
     "data": {
      "text/html": [
       "<pre style=\"white-space:pre;overflow-x:auto;line-height:normal;font-family:Menlo,'DejaVu Sans Mono',consolas,'Courier New',monospace\">Successfully installed mpmath-1.3.0 sympy-1.13.1 torch-2.5.0 torchvision-0.20.0\n",
       "</pre>\n"
      ],
      "text/plain": [
       "Successfully installed mpmath-1.3.0 sympy-1.13.1 torch-2.5.0 torchvision-0.20.0\n"
      ]
     },
     "metadata": {},
     "output_type": "display_data"
    },
    {
     "data": {
      "text/html": [
       "<pre style=\"white-space:pre;overflow-x:auto;line-height:normal;font-family:Menlo,'DejaVu Sans Mono',consolas,'Courier New',monospace\">\n",
       "<span style=\"font-weight: bold\">[</span><span style=\"color: #000080; text-decoration-color: #000080; background-color: #ffffff\">notice</span><span style=\"color: #000000; text-decoration-color: #000000; background-color: #ffffff; font-weight: bold\">]</span><span style=\"color: #000000; text-decoration-color: #000000; background-color: #ffffff\"> A new release of pip is available: </span><span style=\"color: #800000; text-decoration-color: #800000; background-color: #ffffff\">23.2.1</span><span style=\"color: #000000; text-decoration-color: #000000; background-color: #ffffff\"> -&gt; </span><span style=\"color: #008000; text-decoration-color: #008000; background-color: #ffffff\">24.2</span>\n",
       "<span style=\"font-weight: bold\">[</span><span style=\"color: #000080; text-decoration-color: #000080; background-color: #ffffff\">notice</span><span style=\"color: #000000; text-decoration-color: #000000; background-color: #ffffff; font-weight: bold\">]</span><span style=\"color: #000000; text-decoration-color: #000000; background-color: #ffffff\"> To update, run: </span><span style=\"color: #008000; text-decoration-color: #008000; background-color: #ffffff\">python3.11 -m pip install --upgrade pip</span>\n",
       "</pre>\n"
      ],
      "text/plain": [
       "\n",
       "\u001b[1m[\u001b[0m\u001b[34;49mnotice\u001b[0m\u001b[1;39;49m]\u001b[0m\u001b[39;49m A new release of pip is available: \u001b[0m\u001b[31;49m23.2.1\u001b[0m\u001b[39;49m -> \u001b[0m\u001b[32;49m24.2\u001b[0m\n",
       "\u001b[1m[\u001b[0m\u001b[34;49mnotice\u001b[0m\u001b[1;39;49m]\u001b[0m\u001b[39;49m To update, run: \u001b[0m\u001b[32;49mpython3.11 -m pip install --upgrade pip\u001b[0m\n"
      ]
     },
     "metadata": {},
     "output_type": "display_data"
    }
   ],
   "source": [
    "try:\n",
    "    from torchvision.datasets import MNIST\n",
    "    print(\"module 'mutagen' is installed\")\n",
    "except ModuleNotFoundError:\n",
    "    print(\"module 'torchvsion' is not installed\")\n",
    "    # or\n",
    "    install(\"torchvision\") # the install function from the question"
   ]
  },
  {
   "cell_type": "code",
   "execution_count": 3,
   "id": "d571b73b-9abe-48c9-ae9e-47b991cb05df",
   "metadata": {},
   "outputs": [],
   "source": [
    "import numpy as np\n",
    "from torchvision.datasets import MNIST\n",
    "train_dataset = None\n",
    "test_dataset = None\n",
    "def download_mnist(is_train: bool):\n",
    "    if is_train == True:\n",
    "        return MNIST(root='./data', transform=lambda x: np.array(x).flatten(), download=True, train=is_train)\n",
    "    else: \n",
    "        return MNIST(root='./data', transform=lambda x: np.array(x).flatten(), download=True, train=is_train)\n",
    "\n",
    "train_dataset = download_mnist(True)\n",
    "test_dataset = download_mnist(False)"
   ]
  },
  {
   "cell_type": "markdown",
   "id": "3b0377ca-ed0a-4e48-a07c-638b64f559ac",
   "metadata": {},
   "source": [
    "## 2. Processing the dataset"
   ]
  },
  {
   "cell_type": "code",
   "execution_count": 4,
   "id": "c2af5bed-8957-4a9d-987b-60fd8dbefeb9",
   "metadata": {},
   "outputs": [],
   "source": [
    "def processData(dataset):\n",
    "    np_dataset_images = np.array([object[0] for object in dataset], dtype = np.bool_).reshape(len(dataset), 28 * 28)\n",
    "    np_dataset_labels = np.array([object[1] for object in dataset], dtype = np.uint8)\n",
    "    \n",
    "    return np_dataset_images, np_dataset_labels\n",
    "\n",
    "np_train_dataset = processData(train_dataset)\n",
    "np_test_dataset = processData(test_dataset)"
   ]
  },
  {
   "cell_type": "markdown",
   "id": "2ad8bf82-7085-4d0f-88c7-4541b201737c",
   "metadata": {},
   "source": [
    "## 3. Implementing a perceptron handler\n",
    "We need to have the follwing:\n",
    "\n",
    "    - an array of the weights of the system\n",
    "    - function to propagate forward and find the results\n",
    "    - function to recalculate the weights based on the results (backwards propagation)"
   ]
  },
  {
   "cell_type": "code",
   "execution_count": 5,
   "id": "4c949c6f-0e4b-495d-aa3a-db7000ed533e",
   "metadata": {},
   "outputs": [],
   "source": [
    "import random \n",
    "class Perceptron:\n",
    "    def __init__(self):\n",
    "        self.weights = np.array([random.random() for _ in range(28 * 28)])\n",
    "        self.bias = random.random()\n",
    "        \n",
    "    def forwardPropagation (self, inputs): \n",
    "        z = np.sum(self.weights * inputs) + self.bias\n",
    "        return z\n",
    "\n",
    "    def updateWeights(self, vectorToAdd):\n",
    "        self.weights += vectorToAdd\n",
    "        \n",
    "\n",
    "\n",
    "    def updateBias (self, valueToAdd):\n",
    "        self.bias += valueToAdd\n",
    "\n",
    "    def backPropagation(self, learningRate, gradient, inputVector):\n",
    "        self.updateWeights(learningRate * gradient * inputVector)\n",
    "        self.updateBias(learningRate * gradient)"
   ]
  },
  {
   "cell_type": "markdown",
   "id": "6b85fb16-8dd5-4cbb-a0ea-22ebea03e9b3",
   "metadata": {},
   "source": [
    "## 4. Defining the hyper parameters\n",
    "1. The learning rate -> the rate at which we want to apply the gradient to each feature\n",
    "2. The epoch number -> the number of times the algorithm runs\n",
    "3. Additionally we will include here the e constant"
   ]
  },
  {
   "cell_type": "code",
   "execution_count": 6,
   "id": "cc9f82ad-cca4-4278-90c1-f078303ffb08",
   "metadata": {},
   "outputs": [],
   "source": [
    "LEARNING_RATE = 0.001\n",
    "EPOCH_NUMBER = 100\n",
    "E_CONSTANT = 2.7182818284"
   ]
  },
  {
   "cell_type": "markdown",
   "id": "37a63c36-2f83-44e2-a81c-406154e5258f",
   "metadata": {},
   "source": [
    "## 5. Running the algorithm\n",
    "- we will have a function for running epoch\n",
    "- we will have a function for running a batch\n"
   ]
  },
  {
   "cell_type": "code",
   "execution_count": 7,
   "id": "b19543de-f002-4ca7-8509-5b2aee1eb942",
   "metadata": {},
   "outputs": [],
   "source": [
    "import concurrent.futures\n",
    "\n",
    "def runBatch(np_batch_train_dataset):\n",
    "    batch_size = np_batch_train_dataset[0].shape[0]\n",
    "    num_classes = len(perceptrons)\n",
    "\n",
    "    gradients_accumulated = [np.zeros_like(perceptron.weights) for perceptron in perceptrons]\n",
    "    bias_accumulated = [0 for _ in perceptrons]\n",
    "    batchCorrectly = 0\n",
    "    \n",
    "    for testIndex in range(batch_size):\n",
    "        z = [perceptron.forwardPropagation(np_batch_train_dataset[0][testIndex]) for perceptron in perceptrons]\n",
    "        z_max = np.max(z)\n",
    "        z_stable = z - z_max\n",
    "        softMaxArray = np.exp(z_stable) / np.sum(np.exp(z_stable))\n",
    "\n",
    "        correctPredictionValue = np_batch_train_dataset[1][testIndex]\n",
    "        correctPredictionArray = np.zeros(num_classes)\n",
    "        correctPredictionArray[correctPredictionValue] = 1\n",
    "\n",
    "        errorArray = softMaxArray - correctPredictionArray\n",
    "\n",
    "        for i, perceptron in enumerate(perceptrons):\n",
    "            gradients_accumulated[i] += -errorArray[i] * np_batch_train_dataset[0][testIndex]\n",
    "            bias_accumulated[i] += -errorArray[i]\n",
    "\n",
    "        if correctPredictionValue == np.argmax(softMaxArray):\n",
    "            batchCorrectly += 1\n",
    "\n",
    "    return gradients_accumulated, bias_accumulated, batchCorrectly\n",
    "\n",
    "def runEpoch(batch_size=100):\n",
    "    total_samples = np_train_dataset[0].shape[0]\n",
    "    batchCount = total_samples // batch_size\n",
    "    totalCorrect = 0\n",
    "\n",
    "    epoch_gradients_accumulated = [np.zeros_like(perceptron.weights) for perceptron in perceptrons]\n",
    "    epoch_bias_accumulated = [0 for _ in perceptrons]\n",
    "\n",
    "\n",
    "    for batchIndex in range(batchCount):\n",
    "        batchStartIndex = batchIndex * batch_size\n",
    "        batchEndIndex = (batchIndex + 1) * batch_size\n",
    "        batch_train_dataset = [np_train_dataset[0][batchStartIndex:batchEndIndex], \n",
    "                               np_train_dataset[1][batchStartIndex:batchEndIndex]]\n",
    "\n",
    "\n",
    "        gradients_accumulated, bias_accumulated, batchCorrect = runBatch(batch_train_dataset)\n",
    "\n",
    "        for i, perceptron in enumerate(perceptrons):\n",
    "            perceptron.weights += LEARNING_RATE * gradients_accumulated[i]\n",
    "            perceptron.bias += LEARNING_RATE * bias_accumulated[i]\n",
    "\n",
    "\n",
    "        totalCorrect += batchCorrect\n",
    "\n",
    "    for i, perceptron in enumerate(perceptrons):\n",
    "        perceptron.weights -= LEARNING_RATE * epoch_gradients_accumulated[i]\n",
    "        perceptron.bias -= LEARNING_RATE * epoch_bias_accumulated[i]\n",
    "\n",
    "    return totalCorrect\n",
    "    \n",
    "def runTest(inputs):\n",
    "    z = [perceptron.forwardPropagation(inputs) for perceptron in perceptrons]\n",
    "    z_max = np.max(z)\n",
    "    z_stable = z - z_max  \n",
    "    softMaxArray = np.exp(z_stable) / np.sum(np.exp(z_stable))\n",
    "    max_index = max_index = np.argmax(softMaxArray)\n",
    "    return max_index\n"
   ]
  },
  {
   "cell_type": "markdown",
   "id": "cc4c5def-13a1-4fbb-b26b-0e0c336937e2",
   "metadata": {},
   "source": [
    "## 6. Running the main function and initializing the perceptrons"
   ]
  },
  {
   "cell_type": "code",
   "execution_count": null,
   "id": "f88bc896-432e-4990-8f17-1af2a1575bee",
   "metadata": {
    "scrolled": true
   },
   "outputs": [
    {
     "name": "stdout",
     "output_type": "stream",
     "text": [
      "trainingAccuracy =  46810 60000 0.7801666666666667\n",
      "Accuracy on tests at epoch 0 : 0.8576\n",
      "trainingAccuracy =  52251 60000 0.87085\n",
      "Accuracy on tests at epoch 1 : 0.8797\n",
      "trainingAccuracy =  53073 60000 0.88455\n",
      "Accuracy on tests at epoch 2 : 0.8884\n",
      "trainingAccuracy =  53560 60000 0.8926666666666667\n",
      "Accuracy on tests at epoch 3 : 0.894\n",
      "trainingAccuracy =  53884 60000 0.8980666666666667\n",
      "Accuracy on tests at epoch 4 : 0.8989\n",
      "trainingAccuracy =  54107 60000 0.9017833333333334\n",
      "Accuracy on tests at epoch 5 : 0.9019\n",
      "trainingAccuracy =  54294 60000 0.9049\n",
      "Accuracy on tests at epoch 6 : 0.9038\n",
      "trainingAccuracy =  54437 60000 0.9072833333333333\n",
      "Accuracy on tests at epoch 7 : 0.9064\n",
      "trainingAccuracy =  54558 60000 0.9093\n",
      "Accuracy on tests at epoch 8 : 0.9081\n",
      "trainingAccuracy =  54656 60000 0.9109333333333334\n",
      "Accuracy on tests at epoch 9 : 0.9093\n",
      "trainingAccuracy =  54740 60000 0.9123333333333333\n",
      "Accuracy on tests at epoch 10 : 0.9107\n",
      "trainingAccuracy =  54811 60000 0.9135166666666666\n",
      "Accuracy on tests at epoch 11 : 0.9107\n",
      "trainingAccuracy =  54874 60000 0.9145666666666666\n",
      "Accuracy on tests at epoch 12 : 0.9109\n",
      "trainingAccuracy =  54938 60000 0.9156333333333333\n",
      "Accuracy on tests at epoch 13 : 0.9115\n",
      "trainingAccuracy =  54988 60000 0.9164666666666667\n",
      "Accuracy on tests at epoch 14 : 0.912\n",
      "trainingAccuracy =  55026 60000 0.9171\n",
      "Accuracy on tests at epoch 15 : 0.9129\n",
      "trainingAccuracy =  55085 60000 0.9180833333333334\n",
      "Accuracy on tests at epoch 16 : 0.913\n",
      "trainingAccuracy =  55120 60000 0.9186666666666666\n",
      "Accuracy on tests at epoch 17 : 0.9131\n",
      "trainingAccuracy =  55139 60000 0.9189833333333334\n",
      "Accuracy on tests at epoch 18 : 0.9136\n",
      "trainingAccuracy =  55175 60000 0.9195833333333333\n",
      "Accuracy on tests at epoch 19 : 0.9139\n",
      "trainingAccuracy =  55184 60000 0.9197333333333333\n",
      "Accuracy on tests at epoch 20 : 0.9147\n",
      "trainingAccuracy =  55205 60000 0.9200833333333334\n",
      "Accuracy on tests at epoch 21 : 0.9155\n",
      "trainingAccuracy =  55240 60000 0.9206666666666666\n",
      "Accuracy on tests at epoch 22 : 0.9154\n",
      "trainingAccuracy =  55259 60000 0.9209833333333334\n",
      "Accuracy on tests at epoch 23 : 0.9156\n",
      "trainingAccuracy =  55272 60000 0.9212\n",
      "Accuracy on tests at epoch 24 : 0.9154\n",
      "trainingAccuracy =  55293 60000 0.92155\n",
      "Accuracy on tests at epoch 25 : 0.9155\n",
      "trainingAccuracy =  55305 60000 0.92175\n",
      "Accuracy on tests at epoch 26 : 0.9156\n",
      "trainingAccuracy =  55335 60000 0.92225\n",
      "Accuracy on tests at epoch 27 : 0.9158\n",
      "trainingAccuracy =  55346 60000 0.9224333333333333\n",
      "Accuracy on tests at epoch 28 : 0.9162\n",
      "trainingAccuracy =  55364 60000 0.9227333333333333\n",
      "Accuracy on tests at epoch 29 : 0.9163\n",
      "trainingAccuracy =  55372 60000 0.9228666666666666\n",
      "Accuracy on tests at epoch 30 : 0.9163\n",
      "trainingAccuracy =  55385 60000 0.9230833333333334\n",
      "Accuracy on tests at epoch 31 : 0.9164\n",
      "trainingAccuracy =  55386 60000 0.9231\n"
     ]
    }
   ],
   "source": [
    "perceptrons = [Perceptron() for _ in range(10)]\n",
    "def main ():\n",
    "    for epochIndex in range(EPOCH_NUMBER):\n",
    "        totalCorrect = runEpoch()\n",
    "        print('trainingAccuracy = ', totalCorrect, (np_train_dataset[0].size // (28 * 28)), totalCorrect / (np_train_dataset[0].size // (28 * 28)))\n",
    "        correctlyPredicted = 0\n",
    "        tests = np_test_dataset[0]\n",
    "        correctPredictions = np_test_dataset[1]\n",
    "        for index in range(tests.size // (28 * 28)):\n",
    "            prediction = runTest(tests[index])\n",
    "            if prediction == correctPredictions[index]:\n",
    "                correctlyPredicted += 1\n",
    "        print('Accuracy on tests at epoch ' + str(epochIndex) + \" : \" + str(correctlyPredicted / (tests.size // (28 * 28))))\n",
    "main()"
   ]
  },
  {
   "cell_type": "code",
   "execution_count": null,
   "id": "28b72d32-237e-49e7-a4c9-5cd4874d0653",
   "metadata": {},
   "outputs": [],
   "source": []
  }
 ],
 "metadata": {
  "kernelspec": {
   "display_name": "Python 3 (ipykernel)",
   "language": "python",
   "name": "python3"
  },
  "language_info": {
   "codemirror_mode": {
    "name": "ipython",
    "version": 3
   },
   "file_extension": ".py",
   "mimetype": "text/x-python",
   "name": "python",
   "nbconvert_exporter": "python",
   "pygments_lexer": "ipython3",
   "version": "3.11.6"
  }
 },
 "nbformat": 4,
 "nbformat_minor": 5
}
