{
 "cells": [
  {
   "cell_type": "markdown",
   "id": "bd8ac041-47b9-48a9-b6a7-94d33cad4b68",
   "metadata": {},
   "source": [
    "## 1. Downloading the dataset"
   ]
  },
  {
   "cell_type": "code",
   "execution_count": 1,
   "id": "fcbc5e5a-cc00-4601-938d-67cdcbd6d084",
   "metadata": {},
   "outputs": [],
   "source": [
    "import pip\n",
    "def install(package):\n",
    "    pip.main(['install', package])"
   ]
  },
  {
   "cell_type": "code",
   "execution_count": 2,
   "id": "da64f933-e618-486d-a340-e5e29bc46685",
   "metadata": {},
   "outputs": [
    {
     "name": "stdout",
     "output_type": "stream",
     "text": [
      "module 'mutagen' is installed\n"
     ]
    }
   ],
   "source": [
    "try:\n",
    "    from torchvision.datasets import MNIST\n",
    "    print(\"module 'mutagen' is installed\")\n",
    "except ModuleNotFoundError:\n",
    "    print(\"module 'torchvsion' is not installed\")\n",
    "    # or\n",
    "    install(\"torchvision\") # the install function from the question"
   ]
  },
  {
   "cell_type": "code",
   "execution_count": 3,
   "id": "d571b73b-9abe-48c9-ae9e-47b991cb05df",
   "metadata": {},
   "outputs": [],
   "source": [
    "import numpy as np\n",
    "from torchvision.datasets import MNIST\n",
    "train_dataset = None\n",
    "test_dataset = None\n",
    "def download_mnist(is_train: bool):\n",
    "    if is_train == True:\n",
    "        return MNIST(root='./data', transform=lambda x: np.array(x).flatten(), download=True, train=is_train)\n",
    "    else: \n",
    "        return MNIST(root='./data', transform=lambda x: np.array(x).flatten(), download=True, train=is_train)\n",
    "\n",
    "train_dataset = download_mnist(True)\n",
    "test_dataset = download_mnist(False)"
   ]
  },
  {
   "cell_type": "markdown",
   "id": "3b0377ca-ed0a-4e48-a07c-638b64f559ac",
   "metadata": {},
   "source": [
    "## 2. Processing the dataset"
   ]
  },
  {
   "cell_type": "code",
   "execution_count": 4,
   "id": "c2af5bed-8957-4a9d-987b-60fd8dbefeb9",
   "metadata": {},
   "outputs": [],
   "source": [
    "def processData(dataset):\n",
    "    np_dataset_images = np.array([object[0] for object in dataset], dtype = np.bool_).reshape(len(dataset), 28 * 28)\n",
    "    np_dataset_labels = np.array([object[1] for object in dataset], dtype = np.uint8)\n",
    "    \n",
    "    return np_dataset_images, np_dataset_labels\n",
    "\n",
    "np_train_dataset = processData(train_dataset)\n",
    "np_test_dataset = processData(test_dataset)"
   ]
  },
  {
   "cell_type": "markdown",
   "id": "2ad8bf82-7085-4d0f-88c7-4541b201737c",
   "metadata": {},
   "source": [
    "## 3. Implementing a perceptron handler\n",
    "We need to have the follwing:\n",
    "\n",
    "    - an array of the weights of the system\n",
    "    - function to propagate forward and find the results\n",
    "    - function to recalculate the weights based on the results (backwards propagation)"
   ]
  },
  {
   "cell_type": "code",
   "execution_count": 5,
   "id": "4c949c6f-0e4b-495d-aa3a-db7000ed533e",
   "metadata": {},
   "outputs": [],
   "source": [
    "import random \n",
    "class Perceptron:\n",
    "    def __init__(self):\n",
    "        self.weights = np.array([random.random() for _ in range(28 * 28)])\n",
    "        self.bias = random.random()\n",
    "        \n",
    "    def forwardPropagation (self, inputs): \n",
    "        z = np.sum(self.weights * inputs) + self.bias\n",
    "        return z\n",
    "\n",
    "    def updateWeights(self, vectorToAdd):\n",
    "        self.weights += vectorToAdd\n",
    "        \n",
    "\n",
    "\n",
    "    def updateBias (self, valueToAdd):\n",
    "        self.bias += valueToAdd\n",
    "\n",
    "    def backPropagation(self, learningRate, gradient, inputVector):\n",
    "        self.updateWeights(learningRate * gradient * inputVector)\n",
    "        self.updateBias(learningRate * gradient)"
   ]
  },
  {
   "cell_type": "markdown",
   "id": "6b85fb16-8dd5-4cbb-a0ea-22ebea03e9b3",
   "metadata": {},
   "source": [
    "## 4. Defining the hyper parameters\n",
    "1. The learning rate -> the rate at which we want to apply the gradient to each feature\n",
    "2. The epoch number -> the number of times the algorithm runs\n",
    "3. Additionally we will include here the e constant"
   ]
  },
  {
   "cell_type": "code",
   "execution_count": 6,
   "id": "cc9f82ad-cca4-4278-90c1-f078303ffb08",
   "metadata": {},
   "outputs": [],
   "source": [
    "LEARNING_RATE = 0.001\n",
    "EPOCH_NUMBER = 100\n",
    "E_CONSTANT = 2.7182818284"
   ]
  },
  {
   "cell_type": "markdown",
   "id": "37a63c36-2f83-44e2-a81c-406154e5258f",
   "metadata": {},
   "source": [
    "## 5. Running the algorithm\n",
    "- we will have a function for running epoch\n",
    "- we will have a function for running a batch\n"
   ]
  },
  {
   "cell_type": "code",
   "execution_count": 9,
   "id": "b19543de-f002-4ca7-8509-5b2aee1eb942",
   "metadata": {},
   "outputs": [],
   "source": [
    "import concurrent.futures\n",
    "\n",
    "def runBatch(np_batch_train_dataset):\n",
    "    batch_size = np_batch_train_dataset[0].shape[0]\n",
    "    num_classes = len(perceptrons)\n",
    "\n",
    "    gradients_accumulated = [np.zeros_like(perceptron.weights) for perceptron in perceptrons]\n",
    "    bias_accumulated = [0 for _ in perceptrons]\n",
    "    batchCorrectly = 0\n",
    "    \n",
    "    for testIndex in range(batch_size):\n",
    "        z = [perceptron.forwardPropagation(np_batch_train_dataset[0][testIndex]) for perceptron in perceptrons]\n",
    "        z_max = np.max(z)\n",
    "        z_stable = z - z_max\n",
    "        softMaxArray = np.exp(z_stable) / np.sum(np.exp(z_stable))\n",
    "\n",
    "        correctPredictionValue = np_batch_train_dataset[1][testIndex]\n",
    "        correctPredictionArray = np.zeros(num_classes)\n",
    "        correctPredictionArray[correctPredictionValue] = 1\n",
    "\n",
    "        errorArray = softMaxArray - correctPredictionArray\n",
    "\n",
    "        for i, perceptron in enumerate(perceptrons):\n",
    "            gradients_accumulated[i] += -errorArray[i] * np_batch_train_dataset[0][testIndex]\n",
    "            bias_accumulated[i] += -errorArray[i]\n",
    "\n",
    "        if correctPredictionValue == np.argmax(softMaxArray):\n",
    "            batchCorrectly += 1\n",
    "\n",
    "    return gradients_accumulated, bias_accumulated, batchCorrectly\n",
    "\n",
    "def runEpoch(batch_size=100):\n",
    "    total_samples = np_train_dataset[0].shape[0]\n",
    "    batchCount = total_samples // batch_size\n",
    "    totalCorrect = 0\n",
    "\n",
    "    for batchIndex in range(batchCount):\n",
    "        batchStartIndex = batchIndex * batch_size\n",
    "        batchEndIndex = (batchIndex + 1) * batch_size\n",
    "        batch_train_dataset = [np_train_dataset[0][batchStartIndex:batchEndIndex], \n",
    "                               np_train_dataset[1][batchStartIndex:batchEndIndex]]\n",
    "\n",
    "\n",
    "        gradients_accumulated, bias_accumulated, batchCorrect = runBatch(batch_train_dataset)\n",
    "\n",
    "        for i, perceptron in enumerate(perceptrons):\n",
    "            perceptron.weights += LEARNING_RATE * gradients_accumulated[i]\n",
    "            perceptron.bias += LEARNING_RATE * bias_accumulated[i]\n",
    "\n",
    "\n",
    "        totalCorrect += batchCorrect\n",
    "        \n",
    "    return totalCorrect\n",
    "    \n",
    "def runTest(inputs):\n",
    "    z = [perceptron.forwardPropagation(inputs) for perceptron in perceptrons]\n",
    "    z_max = np.max(z)\n",
    "    z_stable = z - z_max  \n",
    "    softMaxArray = np.exp(z_stable) / np.sum(np.exp(z_stable))\n",
    "    max_index = max_index = np.argmax(softMaxArray)\n",
    "    return max_index\n"
   ]
  },
  {
   "cell_type": "markdown",
   "id": "cc4c5def-13a1-4fbb-b26b-0e0c336937e2",
   "metadata": {},
   "source": [
    "## 6. Running the main function and initializing the perceptrons"
   ]
  },
  {
   "cell_type": "code",
   "execution_count": null,
   "id": "f88bc896-432e-4990-8f17-1af2a1575bee",
   "metadata": {
    "scrolled": true
   },
   "outputs": [
    {
     "name": "stdout",
     "output_type": "stream",
     "text": [
      "trainingAccuracy =  46227 60000 0.77045\n",
      "Accuracy on tests at epoch 0 : 0.8589\n"
     ]
    }
   ],
   "source": [
    "perceptrons = [Perceptron() for _ in range(10)]\n",
    "def main ():\n",
    "    for epochIndex in range(EPOCH_NUMBER):\n",
    "        totalCorrect = runEpoch()\n",
    "        print('trainingAccuracy = ', totalCorrect, (np_train_dataset[0].size // (28 * 28)), totalCorrect / (np_train_dataset[0].size // (28 * 28)))\n",
    "        correctlyPredicted = 0\n",
    "        tests = np_test_dataset[0]\n",
    "        correctPredictions = np_test_dataset[1]\n",
    "        for index in range(tests.size // (28 * 28)):\n",
    "            prediction = runTest(tests[index])\n",
    "            if prediction == correctPredictions[index]:\n",
    "                correctlyPredicted += 1\n",
    "        print('Accuracy on tests at epoch ' + str(epochIndex) + \" : \" + str(correctlyPredicted / (tests.size // (28 * 28))))\n",
    "main()"
   ]
  },
  {
   "cell_type": "code",
   "execution_count": null,
   "id": "28b72d32-237e-49e7-a4c9-5cd4874d0653",
   "metadata": {},
   "outputs": [],
   "source": []
  }
 ],
 "metadata": {
  "kernelspec": {
   "display_name": "Python 3 (ipykernel)",
   "language": "python",
   "name": "python3"
  },
  "language_info": {
   "codemirror_mode": {
    "name": "ipython",
    "version": 3
   },
   "file_extension": ".py",
   "mimetype": "text/x-python",
   "name": "python",
   "nbconvert_exporter": "python",
   "pygments_lexer": "ipython3",
   "version": "3.11.6"
  }
 },
 "nbformat": 4,
 "nbformat_minor": 5
}
