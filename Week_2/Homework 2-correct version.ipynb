{
 "cells": [
  {
   "cell_type": "markdown",
   "id": "bd8ac041-47b9-48a9-b6a7-94d33cad4b68",
   "metadata": {},
   "source": [
    "## 1. Downloading the dataset"
   ]
  },
  {
   "cell_type": "code",
   "execution_count": 1,
   "id": "fcbc5e5a-cc00-4601-938d-67cdcbd6d084",
   "metadata": {},
   "outputs": [],
   "source": [
    "import pip\n",
    "def install(package):\n",
    "    pip.main(['install', package])"
   ]
  },
  {
   "cell_type": "code",
   "execution_count": 2,
   "id": "da64f933-e618-486d-a340-e5e29bc46685",
   "metadata": {},
   "outputs": [
    {
     "name": "stdout",
     "output_type": "stream",
     "text": [
      "module 'torchvsion' is not installed\n"
     ]
    },
    {
     "name": "stderr",
     "output_type": "stream",
     "text": [
      "WARNING: pip is being invoked by an old script wrapper. This will fail in a future version of pip.\n",
      "Please see https://github.com/pypa/pip/issues/5599 for advice on fixing the underlying issue.\n",
      "To avoid this problem you can invoke Python with '-m pip' instead of running pip directly.\n"
     ]
    },
    {
     "data": {
      "text/html": [
       "<pre style=\"white-space:pre;overflow-x:auto;line-height:normal;font-family:Menlo,'DejaVu Sans Mono',consolas,'Courier New',monospace\"><span style=\"color: #808000; text-decoration-color: #808000\">WARNING: Ignoring invalid distribution ~heel (C:\\Python311\\Lib\\site-packages)\n",
       "</span></pre>\n"
      ],
      "text/plain": [
       "\u001b[33mWARNING: Ignoring invalid distribution ~heel (C:\\Python311\\Lib\\site-packages)\u001b[0m\u001b[33m\n",
       "\u001b[0m"
      ]
     },
     "metadata": {},
     "output_type": "display_data"
    },
    {
     "data": {
      "text/html": [
       "<pre style=\"white-space:pre;overflow-x:auto;line-height:normal;font-family:Menlo,'DejaVu Sans Mono',consolas,'Courier New',monospace\">Collecting torchvision\n",
       "</pre>\n"
      ],
      "text/plain": [
       "Collecting torchvision\n"
      ]
     },
     "metadata": {},
     "output_type": "display_data"
    },
    {
     "data": {
      "text/html": [
       "<pre style=\"white-space:pre;overflow-x:auto;line-height:normal;font-family:Menlo,'DejaVu Sans Mono',consolas,'Courier New',monospace\">  Obtaining dependency information for torchvision from https://files.pythonhosted.org/packages/b2/1b/b8eb51f87626c125cfa81f07488ab277e68e1c021c6cf2750d779eb61358/torchvision-0.20.0-cp311-cp311-win_amd64.whl.metadata\n",
       "</pre>\n"
      ],
      "text/plain": [
       "  Obtaining dependency information for torchvision from https://files.pythonhosted.org/packages/b2/1b/b8eb51f87626c125cfa81f07488ab277e68e1c021c6cf2750d779eb61358/torchvision-0.20.0-cp311-cp311-win_amd64.whl.metadata\n"
      ]
     },
     "metadata": {},
     "output_type": "display_data"
    },
    {
     "data": {
      "text/html": [
       "<pre style=\"white-space:pre;overflow-x:auto;line-height:normal;font-family:Menlo,'DejaVu Sans Mono',consolas,'Courier New',monospace\">  Downloading torchvision-0.20.0-cp311-cp311-win_amd64.whl.metadata (6.2 kB)\n",
       "</pre>\n"
      ],
      "text/plain": [
       "  Downloading torchvision-0.20.0-cp311-cp311-win_amd64.whl.metadata (6.2 kB)\n"
      ]
     },
     "metadata": {},
     "output_type": "display_data"
    },
    {
     "data": {
      "text/html": [
       "<pre style=\"white-space:pre;overflow-x:auto;line-height:normal;font-family:Menlo,'DejaVu Sans Mono',consolas,'Courier New',monospace\">Requirement already satisfied: numpy in c:\\python311\\lib\\site-packages (from torchvision) (1.25.2)\n",
       "</pre>\n"
      ],
      "text/plain": [
       "Requirement already satisfied: numpy in c:\\python311\\lib\\site-packages (from torchvision) (1.25.2)\n"
      ]
     },
     "metadata": {},
     "output_type": "display_data"
    },
    {
     "data": {
      "text/html": [
       "<pre style=\"white-space:pre;overflow-x:auto;line-height:normal;font-family:Menlo,'DejaVu Sans Mono',consolas,'Courier New',monospace\">Collecting torch==2.5.0 (from torchvision)\n",
       "</pre>\n"
      ],
      "text/plain": [
       "Collecting torch==2.5.0 (from torchvision)\n"
      ]
     },
     "metadata": {},
     "output_type": "display_data"
    },
    {
     "data": {
      "text/html": [
       "<pre style=\"white-space:pre;overflow-x:auto;line-height:normal;font-family:Menlo,'DejaVu Sans Mono',consolas,'Courier New',monospace\">  Obtaining dependency information for torch==2.5.0 from https://files.pythonhosted.org/packages/78/18/7a2e56e2dc45a433dea9e1bf46a65e234294c9c470ccb4d4b53025f57b23/torch-2.5.0-cp311-cp311-win_amd64.whl.metadata\n",
       "</pre>\n"
      ],
      "text/plain": [
       "  Obtaining dependency information for torch==2.5.0 from https://files.pythonhosted.org/packages/78/18/7a2e56e2dc45a433dea9e1bf46a65e234294c9c470ccb4d4b53025f57b23/torch-2.5.0-cp311-cp311-win_amd64.whl.metadata\n"
      ]
     },
     "metadata": {},
     "output_type": "display_data"
    },
    {
     "data": {
      "text/html": [
       "<pre style=\"white-space:pre;overflow-x:auto;line-height:normal;font-family:Menlo,'DejaVu Sans Mono',consolas,'Courier New',monospace\">  Downloading torch-2.5.0-cp311-cp311-win_amd64.whl.metadata (28 kB)\n",
       "</pre>\n"
      ],
      "text/plain": [
       "  Downloading torch-2.5.0-cp311-cp311-win_amd64.whl.metadata (28 kB)\n"
      ]
     },
     "metadata": {},
     "output_type": "display_data"
    },
    {
     "data": {
      "text/html": [
       "<pre style=\"white-space:pre;overflow-x:auto;line-height:normal;font-family:Menlo,'DejaVu Sans Mono',consolas,'Courier New',monospace\">Requirement already satisfied: pillow!=8.3.*,&gt;=5.3.0 in c:\\python311\\lib\\site-packages (from torchvision) (10.4.0)\n",
       "</pre>\n"
      ],
      "text/plain": [
       "Requirement already satisfied: pillow!=8.3.*,>=5.3.0 in c:\\python311\\lib\\site-packages (from torchvision) (10.4.0)\n"
      ]
     },
     "metadata": {},
     "output_type": "display_data"
    },
    {
     "data": {
      "text/html": [
       "<pre style=\"white-space:pre;overflow-x:auto;line-height:normal;font-family:Menlo,'DejaVu Sans Mono',consolas,'Courier New',monospace\">Requirement already satisfied: filelock in c:\\python311\\lib\\site-packages (from torch==2.5.0-&gt;torchvision) (3.15.4)\n",
       "</pre>\n"
      ],
      "text/plain": [
       "Requirement already satisfied: filelock in c:\\python311\\lib\\site-packages (from torch==2.5.0->torchvision) (3.15.4)\n"
      ]
     },
     "metadata": {},
     "output_type": "display_data"
    },
    {
     "data": {
      "text/html": [
       "<pre style=\"white-space:pre;overflow-x:auto;line-height:normal;font-family:Menlo,'DejaVu Sans Mono',consolas,'Courier New',monospace\">Requirement already satisfied: typing-extensions&gt;=4.8.0 in c:\\python311\\lib\\site-packages (from torch==2.5.0-&gt;torchvision) (4.12.2)\n",
       "</pre>\n"
      ],
      "text/plain": [
       "Requirement already satisfied: typing-extensions>=4.8.0 in c:\\python311\\lib\\site-packages (from torch==2.5.0->torchvision) (4.12.2)\n"
      ]
     },
     "metadata": {},
     "output_type": "display_data"
    },
    {
     "data": {
      "text/html": [
       "<pre style=\"white-space:pre;overflow-x:auto;line-height:normal;font-family:Menlo,'DejaVu Sans Mono',consolas,'Courier New',monospace\">Requirement already satisfied: networkx in c:\\python311\\lib\\site-packages (from torch==2.5.0-&gt;torchvision) (3.2.1)\n",
       "</pre>\n"
      ],
      "text/plain": [
       "Requirement already satisfied: networkx in c:\\python311\\lib\\site-packages (from torch==2.5.0->torchvision) (3.2.1)\n"
      ]
     },
     "metadata": {},
     "output_type": "display_data"
    },
    {
     "data": {
      "text/html": [
       "<pre style=\"white-space:pre;overflow-x:auto;line-height:normal;font-family:Menlo,'DejaVu Sans Mono',consolas,'Courier New',monospace\">Requirement already satisfied: jinja2 in c:\\python311\\lib\\site-packages (from torch==2.5.0-&gt;torchvision) (3.1.4)\n",
       "</pre>\n"
      ],
      "text/plain": [
       "Requirement already satisfied: jinja2 in c:\\python311\\lib\\site-packages (from torch==2.5.0->torchvision) (3.1.4)\n"
      ]
     },
     "metadata": {},
     "output_type": "display_data"
    },
    {
     "data": {
      "text/html": [
       "<pre style=\"white-space:pre;overflow-x:auto;line-height:normal;font-family:Menlo,'DejaVu Sans Mono',consolas,'Courier New',monospace\">Requirement already satisfied: fsspec in c:\\python311\\lib\\site-packages (from torch==2.5.0-&gt;torchvision) (2024.6.1)\n",
       "</pre>\n"
      ],
      "text/plain": [
       "Requirement already satisfied: fsspec in c:\\python311\\lib\\site-packages (from torch==2.5.0->torchvision) (2024.6.1)\n"
      ]
     },
     "metadata": {},
     "output_type": "display_data"
    },
    {
     "data": {
      "text/html": [
       "<pre style=\"white-space:pre;overflow-x:auto;line-height:normal;font-family:Menlo,'DejaVu Sans Mono',consolas,'Courier New',monospace\">Collecting sympy==1.13.1 (from torch==2.5.0-&gt;torchvision)\n",
       "</pre>\n"
      ],
      "text/plain": [
       "Collecting sympy==1.13.1 (from torch==2.5.0->torchvision)\n"
      ]
     },
     "metadata": {},
     "output_type": "display_data"
    },
    {
     "data": {
      "text/html": [
       "<pre style=\"white-space:pre;overflow-x:auto;line-height:normal;font-family:Menlo,'DejaVu Sans Mono',consolas,'Courier New',monospace\">  Obtaining dependency information for sympy==1.13.1 from https://files.pythonhosted.org/packages/b2/fe/81695a1aa331a842b582453b605175f419fe8540355886031328089d840a/sympy-1.13.1-py3-none-any.whl.metadata\n",
       "</pre>\n"
      ],
      "text/plain": [
       "  Obtaining dependency information for sympy==1.13.1 from https://files.pythonhosted.org/packages/b2/fe/81695a1aa331a842b582453b605175f419fe8540355886031328089d840a/sympy-1.13.1-py3-none-any.whl.metadata\n"
      ]
     },
     "metadata": {},
     "output_type": "display_data"
    },
    {
     "data": {
      "text/html": [
       "<pre style=\"white-space:pre;overflow-x:auto;line-height:normal;font-family:Menlo,'DejaVu Sans Mono',consolas,'Courier New',monospace\">  Downloading sympy-1.13.1-py3-none-any.whl.metadata (12 kB)\n",
       "</pre>\n"
      ],
      "text/plain": [
       "  Downloading sympy-1.13.1-py3-none-any.whl.metadata (12 kB)\n"
      ]
     },
     "metadata": {},
     "output_type": "display_data"
    },
    {
     "data": {
      "text/html": [
       "<pre style=\"white-space:pre;overflow-x:auto;line-height:normal;font-family:Menlo,'DejaVu Sans Mono',consolas,'Courier New',monospace\">Collecting mpmath&lt;1.4,&gt;=1.1.0 (from sympy==1.13.1-&gt;torch==2.5.0-&gt;torchvision)\n",
       "</pre>\n"
      ],
      "text/plain": [
       "Collecting mpmath<1.4,>=1.1.0 (from sympy==1.13.1->torch==2.5.0->torchvision)\n"
      ]
     },
     "metadata": {},
     "output_type": "display_data"
    },
    {
     "data": {
      "text/html": [
       "<pre style=\"white-space:pre;overflow-x:auto;line-height:normal;font-family:Menlo,'DejaVu Sans Mono',consolas,'Courier New',monospace\">  Obtaining dependency information for mpmath&lt;1.4,&gt;=1.1.0 from https://files.pythonhosted.org/packages/43/e3/7d92a15f894aa0c9c4b49b8ee9ac9850d6e63b03c9c32c0367a13ae62209/mpmath-1.3.0-py3-none-any.whl.metadata\n",
       "</pre>\n"
      ],
      "text/plain": [
       "  Obtaining dependency information for mpmath<1.4,>=1.1.0 from https://files.pythonhosted.org/packages/43/e3/7d92a15f894aa0c9c4b49b8ee9ac9850d6e63b03c9c32c0367a13ae62209/mpmath-1.3.0-py3-none-any.whl.metadata\n"
      ]
     },
     "metadata": {},
     "output_type": "display_data"
    },
    {
     "data": {
      "text/html": [
       "<pre style=\"white-space:pre;overflow-x:auto;line-height:normal;font-family:Menlo,'DejaVu Sans Mono',consolas,'Courier New',monospace\">  Downloading mpmath-1.3.0-py3-none-any.whl.metadata (8.6 kB)\n",
       "</pre>\n"
      ],
      "text/plain": [
       "  Downloading mpmath-1.3.0-py3-none-any.whl.metadata (8.6 kB)\n"
      ]
     },
     "metadata": {},
     "output_type": "display_data"
    },
    {
     "data": {
      "text/html": [
       "<pre style=\"white-space:pre;overflow-x:auto;line-height:normal;font-family:Menlo,'DejaVu Sans Mono',consolas,'Courier New',monospace\">Requirement already satisfied: MarkupSafe&gt;=2.0 in c:\\python311\\lib\\site-packages (from jinja2-&gt;torch==2.5.0-&gt;torchvision) (2.1.5)\n",
       "</pre>\n"
      ],
      "text/plain": [
       "Requirement already satisfied: MarkupSafe>=2.0 in c:\\python311\\lib\\site-packages (from jinja2->torch==2.5.0->torchvision) (2.1.5)\n"
      ]
     },
     "metadata": {},
     "output_type": "display_data"
    },
    {
     "data": {
      "text/html": [
       "<pre style=\"white-space:pre;overflow-x:auto;line-height:normal;font-family:Menlo,'DejaVu Sans Mono',consolas,'Courier New',monospace\">Downloading torchvision-0.20.0-cp311-cp311-win_amd64.whl (1.6 MB)\n",
       "</pre>\n"
      ],
      "text/plain": [
       "Downloading torchvision-0.20.0-cp311-cp311-win_amd64.whl (1.6 MB)\n"
      ]
     },
     "metadata": {},
     "output_type": "display_data"
    },
    {
     "data": {
      "application/vnd.jupyter.widget-view+json": {
       "model_id": "a48588bcdff14690aeabb6b06980ace1",
       "version_major": 2,
       "version_minor": 0
      },
      "text/plain": [
       "Output()"
      ]
     },
     "metadata": {},
     "output_type": "display_data"
    },
    {
     "data": {
      "text/html": [
       "<pre style=\"white-space:pre;overflow-x:auto;line-height:normal;font-family:Menlo,'DejaVu Sans Mono',consolas,'Courier New',monospace\"></pre>\n"
      ],
      "text/plain": []
     },
     "metadata": {},
     "output_type": "display_data"
    },
    {
     "data": {
      "text/html": [
       "<pre style=\"white-space:pre;overflow-x:auto;line-height:normal;font-family:Menlo,'DejaVu Sans Mono',consolas,'Courier New',monospace\">\n",
       "</pre>\n"
      ],
      "text/plain": [
       "\n"
      ]
     },
     "metadata": {},
     "output_type": "display_data"
    },
    {
     "data": {
      "text/html": [
       "<pre style=\"white-space:pre;overflow-x:auto;line-height:normal;font-family:Menlo,'DejaVu Sans Mono',consolas,'Courier New',monospace\">Downloading torch-2.5.0-cp311-cp311-win_amd64.whl (203.1 MB)\n",
       "</pre>\n"
      ],
      "text/plain": [
       "Downloading torch-2.5.0-cp311-cp311-win_amd64.whl (203.1 MB)\n"
      ]
     },
     "metadata": {},
     "output_type": "display_data"
    },
    {
     "data": {
      "application/vnd.jupyter.widget-view+json": {
       "model_id": "a598463ff8fb4b3da3693c904cf378b1",
       "version_major": 2,
       "version_minor": 0
      },
      "text/plain": [
       "Output()"
      ]
     },
     "metadata": {},
     "output_type": "display_data"
    },
    {
     "data": {
      "text/html": [
       "<pre style=\"white-space:pre;overflow-x:auto;line-height:normal;font-family:Menlo,'DejaVu Sans Mono',consolas,'Courier New',monospace\"></pre>\n"
      ],
      "text/plain": []
     },
     "metadata": {},
     "output_type": "display_data"
    },
    {
     "data": {
      "text/html": [
       "<pre style=\"white-space:pre;overflow-x:auto;line-height:normal;font-family:Menlo,'DejaVu Sans Mono',consolas,'Courier New',monospace\">\n",
       "</pre>\n"
      ],
      "text/plain": [
       "\n"
      ]
     },
     "metadata": {},
     "output_type": "display_data"
    },
    {
     "data": {
      "text/html": [
       "<pre style=\"white-space:pre;overflow-x:auto;line-height:normal;font-family:Menlo,'DejaVu Sans Mono',consolas,'Courier New',monospace\">Downloading sympy-1.13.1-py3-none-any.whl (6.2 MB)\n",
       "</pre>\n"
      ],
      "text/plain": [
       "Downloading sympy-1.13.1-py3-none-any.whl (6.2 MB)\n"
      ]
     },
     "metadata": {},
     "output_type": "display_data"
    },
    {
     "data": {
      "application/vnd.jupyter.widget-view+json": {
       "model_id": "d1bbe14cee1b4455b073eebb2a67a102",
       "version_major": 2,
       "version_minor": 0
      },
      "text/plain": [
       "Output()"
      ]
     },
     "metadata": {},
     "output_type": "display_data"
    },
    {
     "data": {
      "text/html": [
       "<pre style=\"white-space:pre;overflow-x:auto;line-height:normal;font-family:Menlo,'DejaVu Sans Mono',consolas,'Courier New',monospace\"></pre>\n"
      ],
      "text/plain": []
     },
     "metadata": {},
     "output_type": "display_data"
    },
    {
     "data": {
      "text/html": [
       "<pre style=\"white-space:pre;overflow-x:auto;line-height:normal;font-family:Menlo,'DejaVu Sans Mono',consolas,'Courier New',monospace\">\n",
       "</pre>\n"
      ],
      "text/plain": [
       "\n"
      ]
     },
     "metadata": {},
     "output_type": "display_data"
    },
    {
     "data": {
      "text/html": [
       "<pre style=\"white-space:pre;overflow-x:auto;line-height:normal;font-family:Menlo,'DejaVu Sans Mono',consolas,'Courier New',monospace\">Downloading mpmath-1.3.0-py3-none-any.whl (536 kB)\n",
       "</pre>\n"
      ],
      "text/plain": [
       "Downloading mpmath-1.3.0-py3-none-any.whl (536 kB)\n"
      ]
     },
     "metadata": {},
     "output_type": "display_data"
    },
    {
     "data": {
      "application/vnd.jupyter.widget-view+json": {
       "model_id": "10771db476be49f0bb147387e139a550",
       "version_major": 2,
       "version_minor": 0
      },
      "text/plain": [
       "Output()"
      ]
     },
     "metadata": {},
     "output_type": "display_data"
    },
    {
     "data": {
      "text/html": [
       "<pre style=\"white-space:pre;overflow-x:auto;line-height:normal;font-family:Menlo,'DejaVu Sans Mono',consolas,'Courier New',monospace\"></pre>\n"
      ],
      "text/plain": []
     },
     "metadata": {},
     "output_type": "display_data"
    },
    {
     "data": {
      "text/html": [
       "<pre style=\"white-space:pre;overflow-x:auto;line-height:normal;font-family:Menlo,'DejaVu Sans Mono',consolas,'Courier New',monospace\">\n",
       "</pre>\n"
      ],
      "text/plain": [
       "\n"
      ]
     },
     "metadata": {},
     "output_type": "display_data"
    },
    {
     "data": {
      "text/html": [
       "<pre style=\"white-space:pre;overflow-x:auto;line-height:normal;font-family:Menlo,'DejaVu Sans Mono',consolas,'Courier New',monospace\"><span style=\"color: #808000; text-decoration-color: #808000\">WARNING: Ignoring invalid distribution ~heel (C:\\Python311\\Lib\\site-packages)\n",
       "</span></pre>\n"
      ],
      "text/plain": [
       "\u001b[33mWARNING: Ignoring invalid distribution ~heel (C:\\Python311\\Lib\\site-packages)\u001b[0m\u001b[33m\n",
       "\u001b[0m"
      ]
     },
     "metadata": {},
     "output_type": "display_data"
    },
    {
     "data": {
      "text/html": [
       "<pre style=\"white-space:pre;overflow-x:auto;line-height:normal;font-family:Menlo,'DejaVu Sans Mono',consolas,'Courier New',monospace\">Installing collected packages: mpmath, sympy, torch, torchvision\n",
       "</pre>\n"
      ],
      "text/plain": [
       "Installing collected packages: mpmath, sympy, torch, torchvision\n"
      ]
     },
     "metadata": {},
     "output_type": "display_data"
    },
    {
     "data": {
      "text/html": [
       "<pre style=\"white-space:pre;overflow-x:auto;line-height:normal;font-family:Menlo,'DejaVu Sans Mono',consolas,'Courier New',monospace\"><span style=\"color: #800000; text-decoration-color: #800000\">ERROR: Could not install packages due to an OSError: [WinError 5] Access is denied: 'C:\\\\Python311\\\\share'\n",
       "Consider using the `--user` option or check the permissions.\n",
       "\n",
       "</span></pre>\n"
      ],
      "text/plain": [
       "\u001b[31mERROR: Could not install packages due to an OSError: [WinError 5] Access is denied: 'C:\\\\Python311\\\\share'\n",
       "Consider using the `--user` option or check the permissions.\n",
       "\u001b[0m\u001b[31m\n",
       "\u001b[0m"
      ]
     },
     "metadata": {},
     "output_type": "display_data"
    },
    {
     "data": {
      "text/html": [
       "<pre style=\"white-space:pre;overflow-x:auto;line-height:normal;font-family:Menlo,'DejaVu Sans Mono',consolas,'Courier New',monospace\"><span style=\"color: #808000; text-decoration-color: #808000\">WARNING: There was an error checking the latest version of pip.\n",
       "</span></pre>\n"
      ],
      "text/plain": [
       "\u001b[33mWARNING: There was an error checking the latest version of pip.\u001b[0m\u001b[33m\n",
       "\u001b[0m"
      ]
     },
     "metadata": {},
     "output_type": "display_data"
    }
   ],
   "source": [
    "try:\n",
    "    from torchvision.datasets import MNIST\n",
    "    print(\"module 'mutagen' is installed\")\n",
    "except ModuleNotFoundError:\n",
    "    print(\"module 'torchvsion' is not installed\")\n",
    "    # or\n",
    "    install(\"torchvision\") # the install function from the question"
   ]
  },
  {
   "cell_type": "code",
   "execution_count": 4,
   "id": "d571b73b-9abe-48c9-ae9e-47b991cb05df",
   "metadata": {},
   "outputs": [
    {
     "ename": "ModuleNotFoundError",
     "evalue": "No module named 'torchvision'",
     "output_type": "error",
     "traceback": [
      "\u001b[1;31m---------------------------------------------------------------------------\u001b[0m",
      "\u001b[1;31mModuleNotFoundError\u001b[0m                       Traceback (most recent call last)",
      "Cell \u001b[1;32mIn[4], line 2\u001b[0m\n\u001b[0;32m      1\u001b[0m \u001b[38;5;28;01mimport\u001b[39;00m \u001b[38;5;21;01mnumpy\u001b[39;00m \u001b[38;5;28;01mas\u001b[39;00m \u001b[38;5;21;01mnp\u001b[39;00m\n\u001b[1;32m----> 2\u001b[0m \u001b[38;5;28;01mfrom\u001b[39;00m \u001b[38;5;21;01mtorchvision\u001b[39;00m\u001b[38;5;21;01m.\u001b[39;00m\u001b[38;5;21;01mdatasets\u001b[39;00m \u001b[38;5;28;01mimport\u001b[39;00m MNIST\n\u001b[0;32m      3\u001b[0m train_dataset \u001b[38;5;241m=\u001b[39m \u001b[38;5;28;01mNone\u001b[39;00m\n\u001b[0;32m      4\u001b[0m test_dataset \u001b[38;5;241m=\u001b[39m \u001b[38;5;28;01mNone\u001b[39;00m\n",
      "\u001b[1;31mModuleNotFoundError\u001b[0m: No module named 'torchvision'"
     ]
    }
   ],
   "source": [
    "import numpy as np\n",
    "from torchvision.datasets import MNIST\n",
    "train_dataset = None\n",
    "test_dataset = None\n",
    "def download_mnist(is_train: bool):\n",
    "    if is_train == True:\n",
    "        return MNIST(root='./data', transform=lambda x: np.array(x).flatten(), download=True, train=is_train)\n",
    "    else: \n",
    "        return MNIST(root='./data', transform=lambda x: np.array(x).flatten(), download=True, train=is_train)\n",
    "\n",
    "train_dataset = download_mnist(True)\n",
    "test_dataset = download_mnist(False)"
   ]
  },
  {
   "cell_type": "markdown",
   "id": "3b0377ca-ed0a-4e48-a07c-638b64f559ac",
   "metadata": {},
   "source": [
    "## 2. Processing the dataset"
   ]
  },
  {
   "cell_type": "code",
   "execution_count": 5,
   "id": "c2af5bed-8957-4a9d-987b-60fd8dbefeb9",
   "metadata": {},
   "outputs": [
    {
     "ename": "NameError",
     "evalue": "name 'train_dataset' is not defined",
     "output_type": "error",
     "traceback": [
      "\u001b[1;31m---------------------------------------------------------------------------\u001b[0m",
      "\u001b[1;31mNameError\u001b[0m                                 Traceback (most recent call last)",
      "Cell \u001b[1;32mIn[5], line 8\u001b[0m\n\u001b[0;32m      4\u001b[0m     np_dataset_labels \u001b[38;5;241m=\u001b[39m np\u001b[38;5;241m.\u001b[39marray([\u001b[38;5;28mobject\u001b[39m[\u001b[38;5;241m1\u001b[39m] \u001b[38;5;28;01mfor\u001b[39;00m \u001b[38;5;28mobject\u001b[39m \u001b[38;5;129;01min\u001b[39;00m dataset], dtype \u001b[38;5;241m=\u001b[39m np\u001b[38;5;241m.\u001b[39muint8)\n\u001b[0;32m      6\u001b[0m     \u001b[38;5;28;01mreturn\u001b[39;00m np_dataset_images, np_dataset_labels\n\u001b[1;32m----> 8\u001b[0m np_train_dataset \u001b[38;5;241m=\u001b[39m processData(\u001b[43mtrain_dataset\u001b[49m)\n\u001b[0;32m      9\u001b[0m np_test_dataset \u001b[38;5;241m=\u001b[39m processData(test_dataset)\n",
      "\u001b[1;31mNameError\u001b[0m: name 'train_dataset' is not defined"
     ]
    }
   ],
   "source": [
    "def processData(dataset):\n",
    "    # first lets normalize the data into 0-1\n",
    "    np_dataset_images = np.array([object[0] for object in dataset], dtype = np.bool_).reshape(len(dataset), 28 * 28)\n",
    "    np_dataset_labels = np.array([object[1] for object in dataset], dtype = np.uint8)\n",
    "    \n",
    "    return np_dataset_images, np_dataset_labels\n",
    "\n",
    "np_train_dataset = processData(train_dataset)\n",
    "np_test_dataset = processData(test_dataset)"
   ]
  },
  {
   "cell_type": "markdown",
   "id": "2ad8bf82-7085-4d0f-88c7-4541b201737c",
   "metadata": {},
   "source": [
    "## 3. Implementing a perceptron handler\n",
    "We need to have the follwing:\n",
    "\n",
    "    - an array of the weights of the system\n",
    "    - function to propagate forward and find the results\n",
    "    - function to recalculate the weights based on the results (backwards propagation)"
   ]
  },
  {
   "cell_type": "code",
   "execution_count": null,
   "id": "4c949c6f-0e4b-495d-aa3a-db7000ed533e",
   "metadata": {},
   "outputs": [],
   "source": [
    "import random \n",
    "class Perceptron:\n",
    "    def __init__(self):\n",
    "        self.weights = np.array([random.random() for _ in range(28 * 28)])\n",
    "        self.bias = random.random()\n",
    "        \n",
    "    def forwardPropagation (self, inputs): \n",
    "        z = np.sum(self.weights * inputs) + self.bias\n",
    "        return z\n",
    "\n",
    "    def updateWeights(self, vectorToAdd):\n",
    "        self.weights += vectorToAdd\n",
    "        \n",
    "\n",
    "\n",
    "    def updateBias (self, valueToAdd):\n",
    "        self.bias += valueToAdd\n",
    "\n",
    "    def backPropagation(self, learningRate, gradient, inputVector):\n",
    "        self.updateWeights(learningRate * gradient * inputVector)\n",
    "        self.updateBias(learningRate * gradient)"
   ]
  },
  {
   "cell_type": "markdown",
   "id": "6b85fb16-8dd5-4cbb-a0ea-22ebea03e9b3",
   "metadata": {},
   "source": [
    "## 4. Defining the hyper parameters\n",
    "1. The learning rate -> the rate at which we want to apply the gradient to each feature\n",
    "2. The epoch number -> the number of times the algorithm runs\n",
    "3. Additionally we will include here the e constant"
   ]
  },
  {
   "cell_type": "code",
   "execution_count": null,
   "id": "cc9f82ad-cca4-4278-90c1-f078303ffb08",
   "metadata": {},
   "outputs": [],
   "source": [
    "LEARNING_RATE = 0.1\n",
    "EPOCH_NUMBER = 50\n",
    "E_CONSTANT = 2.7182818284"
   ]
  },
  {
   "cell_type": "markdown",
   "id": "37a63c36-2f83-44e2-a81c-406154e5258f",
   "metadata": {},
   "source": [
    "## 5. Running the algorithm\n",
    "- we will have a function for running epoch\n",
    "- we will have a function for running a batch\n"
   ]
  },
  {
   "cell_type": "code",
   "execution_count": null,
   "id": "b19543de-f002-4ca7-8509-5b2aee1eb942",
   "metadata": {},
   "outputs": [],
   "source": [
    "import concurrent.futures\n",
    "\n",
    "def runBatch(np_batch_train_dataset):\n",
    "    batch_size = np_batch_train_dataset[0].shape[0]\n",
    "    num_classes = len(perceptrons)\n",
    "\n",
    "    # Initialize gradients accumulation arrays\n",
    "    gradients_accumulated = [np.zeros_like(perceptron.weights) for perceptron in perceptrons]\n",
    "    bias_accumulated = [0 for _ in perceptrons]\n",
    "    batchCorrectly = 0\n",
    "    \n",
    "    # Process each sample in the batch\n",
    "    for testIndex in range(batch_size):\n",
    "        # Forward propagation\n",
    "        z = [perceptron.forwardPropagation(np_batch_train_dataset[0][testIndex]) for perceptron in perceptrons]\n",
    "        z_max = np.max(z)\n",
    "        z_stable = z - z_max\n",
    "        softMaxArray = np.exp(z_stable) / np.sum(np.exp(z_stable))\n",
    "\n",
    "        # Create one-hot encoded target array\n",
    "        correctPredictionValue = np_batch_train_dataset[1][testIndex]\n",
    "        correctPredictionArray = np.zeros(num_classes)\n",
    "        correctPredictionArray[correctPredictionValue] = 1\n",
    "\n",
    "        # Calculate error\n",
    "        errorArray = softMaxArray - correctPredictionArray\n",
    "\n",
    "        # Accumulate gradients\n",
    "        for i, perceptron in enumerate(perceptrons):\n",
    "            gradients_accumulated[i] += -errorArray[i] * np_batch_train_dataset[0][testIndex]\n",
    "            bias_accumulated[i] += -errorArray[i]\n",
    "\n",
    "        # Check for correct prediction\n",
    "        if correctPredictionValue == np.argmax(softMaxArray):\n",
    "            batchCorrectly += 1\n",
    "\n",
    "    return gradients_accumulated, bias_accumulated, batchCorrectly\n",
    "\n",
    "def runEpoch(batch_size=100):\n",
    "    total_samples = np_train_dataset[0].shape[0]\n",
    "    batchCount = total_samples // batch_size\n",
    "    totalCorrect = 0\n",
    "\n",
    "    # Initialize epoch gradients accumulation\n",
    "    epoch_gradients_accumulated = [np.zeros_like(perceptron.weights) for perceptron in perceptrons]\n",
    "    epoch_bias_accumulated = [0 for _ in perceptrons]\n",
    "\n",
    "    # Process each batch sequentially\n",
    "    for batchIndex in range(batchCount):\n",
    "        batchStartIndex = batchIndex * batch_size\n",
    "        batchEndIndex = (batchIndex + 1) * batch_size\n",
    "        batch_train_dataset = [np_train_dataset[0][batchStartIndex:batchEndIndex], \n",
    "                               np_train_dataset[1][batchStartIndex:batchEndIndex]]\n",
    "\n",
    "        # Run batch and accumulate results\n",
    "        gradients_accumulated, bias_accumulated, batchCorrect = runBatch(batch_train_dataset)\n",
    "\n",
    "        # # Accumulate gradients across batches\n",
    "        # for i in range(len(perceptrons)):\n",
    "        #     epoch_gradients_accumulated[i] += gradients_accumulated[i]\n",
    "        #     epoch_bias_accumulated[i] += bias_accumulated[i]\n",
    "\n",
    "        \n",
    "        # Update perceptrons using accumulated gradients\n",
    "        for i, perceptron in enumerate(perceptrons):\n",
    "            perceptron.weights += LEARNING_RATE * gradients_accumulated[i]\n",
    "            perceptron.bias += LEARNING_RATE * bias_accumulated[i]\n",
    "\n",
    "\n",
    "        totalCorrect += batchCorrect\n",
    "\n",
    "    # Update perceptrons using accumulated gradients\n",
    "    for i, perceptron in enumerate(perceptrons):\n",
    "        perceptron.weights -= LEARNING_RATE * epoch_gradients_accumulated[i]\n",
    "        perceptron.bias -= LEARNING_RATE * epoch_bias_accumulated[i]\n",
    "\n",
    "    return totalCorrect\n",
    "    \n",
    "def runTest(inputs):\n",
    "    z = [perceptron.forwardPropagation(inputs) for perceptron in perceptrons]\n",
    "    z_max = np.max(z)  # Get the maximum value to stabilize\n",
    "    z_stable = z - z_max  \n",
    "    # Apply softmax to get predicted probabilities\n",
    "    softMaxArray = np.exp(z_stable) / np.sum(np.exp(z_stable))\n",
    "    max_index = max_index = np.argmax(softMaxArray)\n",
    "    return max_index\n"
   ]
  },
  {
   "cell_type": "markdown",
   "id": "cc4c5def-13a1-4fbb-b26b-0e0c336937e2",
   "metadata": {},
   "source": [
    "## 6. Running the main function and initializing the perceptrons"
   ]
  },
  {
   "cell_type": "code",
   "execution_count": null,
   "id": "f88bc896-432e-4990-8f17-1af2a1575bee",
   "metadata": {
    "scrolled": true
   },
   "outputs": [],
   "source": [
    "perceptrons = [Perceptron() for _ in range(10)]\n",
    "def main ():\n",
    "    for epochIndex in range(EPOCH_NUMBER):\n",
    "        totalCorrect = runEpoch()\n",
    "        print('trainingAccuracy = ', totalCorrect, (np_train_dataset[0].size // (28 * 28)), totalCorrect / (np_train_dataset[0].size // (28 * 28)))\n",
    "        correctlyPredicted = 0\n",
    "        tests = np_test_dataset[0]\n",
    "        correctPredictions = np_test_dataset[1]\n",
    "        for index in range(tests.size // (28 * 28)):\n",
    "            prediction = runTest(tests[index])\n",
    "            if prediction == correctPredictions[index]:\n",
    "                correctlyPredicted += 1\n",
    "        print('Accuracy on tests at epoch ' + str(epochIndex) + \" : \" + str(correctlyPredicted / (tests.size // (28 * 28))))\n",
    "main()"
   ]
  },
  {
   "cell_type": "code",
   "execution_count": null,
   "id": "28b72d32-237e-49e7-a4c9-5cd4874d0653",
   "metadata": {},
   "outputs": [],
   "source": []
  }
 ],
 "metadata": {
  "kernelspec": {
   "display_name": "Python 3 (ipykernel)",
   "language": "python",
   "name": "python3"
  },
  "language_info": {
   "codemirror_mode": {
    "name": "ipython",
    "version": 3
   },
   "file_extension": ".py",
   "mimetype": "text/x-python",
   "name": "python",
   "nbconvert_exporter": "python",
   "pygments_lexer": "ipython3",
   "version": "3.11.5"
  }
 },
 "nbformat": 4,
 "nbformat_minor": 5
}
