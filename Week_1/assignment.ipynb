{
 "cells": [
  {
   "cell_type": "markdown",
   "id": "9899442a-63e0-49ae-aeda-d5708286cca9",
   "metadata": {},
   "source": [
    "## 1. Parsing the System of "
   ]
  },
  {
   "cell_type": "markdown",
   "id": "de8bddfe-caf8-4eb1-8194-6d5084911748",
   "metadata": {},
   "source": [
    "### a) First lets open the file and read the lines"
   ]
  },
  {
   "cell_type": "code",
   "execution_count": 1,
   "id": "b06a34db-513c-4a8f-b02d-3b836e041af7",
   "metadata": {},
   "outputs": [
    {
     "name": "stdout",
     "output_type": "stream",
     "text": [
      "['2x + 3y - z = 5\\n', 'x - y + 4z = 6\\n', '3x + y + 2z = 7\\n']\n"
     ]
    }
   ],
   "source": [
    "file = open('equasions.txt', 'r') \n",
    "equasionLines = file.readlines()\n",
    "print(equasionLines)"
   ]
  },
  {
   "cell_type": "markdown",
   "id": "45133632-5e70-44d3-8290-ba7558936bdd",
   "metadata": {},
   "source": [
    "### b) Now lets tranform the lines into a matrix by:\n",
    "- Extraction each of the terms in their own string\n",
    "- Replacing the term (x/y/z) with an empty string so that evaluating Number is not throwing an error\n",
    "- Multiplying by -1 if the sign previous symbol is a minus\n",
    "- $Assumption$: the first term has no space between the number and the minus (-2x not - 2x)"
   ]
  },
  {
   "cell_type": "code",
   "execution_count": 2,
   "id": "4b6ef1e4-85ad-4752-888a-28aec601aa0c",
   "metadata": {},
   "outputs": [
    {
     "name": "stdout",
     "output_type": "stream",
     "text": [
      "[[2, 3, -1], [1, -1, 4], [3, 1, 2]] [5, 6, 7]\n"
     ]
    }
   ],
   "source": [
    "xTerm = 0\n",
    "yTerm = 0\n",
    "zTerm = 0\n",
    "matrixA = []\n",
    "matrixB = []\n",
    "for equasionLine in equasionLines:\n",
    "    lineElements = equasionLine.split()\n",
    "    # normalizing the terms so that we can extract the number with a one line command\n",
    "    if lineElements[0] == 'x':\n",
    "        lineElements[0] = '1x'\n",
    "    if lineElements[2] == 'y':\n",
    "        lineElements[2] = '1y'\n",
    "    if lineElements[4] == 'z':\n",
    "        lineElements[4] = '1z'\n",
    "    xTerm = int(lineElements[0].replace('x', ''))\n",
    "    yTerm = int(lineElements[2].replace('y', ''))\n",
    "    zTerm = int(lineElements[4].replace('z', ''))\n",
    "\n",
    "    if lineElements[1] == '-':\n",
    "        yTerm *= -1\n",
    "    \n",
    "    if lineElements[3] == '-':\n",
    "        zTerm *= -1\n",
    "        \n",
    "    equalsValue = int(lineElements[6])\n",
    "    matrixA.append([xTerm, yTerm, zTerm])\n",
    "    matrixB.append(equalsValue)\n",
    "print(matrixA, matrixB)"
   ]
  },
  {
   "cell_type": "markdown",
   "id": "6e3d7d69-682d-41a3-9169-d3b704ff9351",
   "metadata": {},
   "source": [
    "## 2. Matrix and Vector Operations"
   ]
  },
  {
   "cell_type": "markdown",
   "id": "895a8f50-fd97-4388-8c1e-8291e0ff5e57",
   "metadata": {},
   "source": [
    "### a) Function for calculating the Determinant of a matrix"
   ]
  },
  {
   "cell_type": "code",
   "execution_count": 3,
   "id": "fb89f0a5-695d-4fe1-bb98-9b46df590175",
   "metadata": {},
   "outputs": [],
   "source": [
    "def determinant (matrix): \n",
    "    if len(matrix) == 2:\n",
    "        return matrix[0][0] * matrix[1][1] - matrix[0][1] * matrix[1][0]\n",
    "        \n",
    "    return \\\n",
    "    matrix[0][0] * (matrix[1][1] * matrix[2][2] - matrix[1][2] * matrix[2][1]) - \\\n",
    "    matrix[0][1] * (matrix[1][0] * matrix[2][2] - matrix[1][2] * matrix[2][0]) + \\\n",
    "    matrix[0][2] * (matrix[1][0] * matrix[2][1] - matrix[1][1] * matrix[2][0])"
   ]
  },
  {
   "cell_type": "markdown",
   "id": "f2922313-48c3-484e-94e1-dbb76973e048",
   "metadata": {},
   "source": [
    "### b) Function for calculating Trace of a matrix "
   ]
  },
  {
   "cell_type": "code",
   "execution_count": 4,
   "id": "140b3f31-bcfb-43a8-9373-38e362029133",
   "metadata": {},
   "outputs": [],
   "source": [
    "def trace (matrix):\n",
    "    return matrix[0][0] * matrix[1][1] * matrix[2][2]"
   ]
  },
  {
   "cell_type": "markdown",
   "id": "0c62c61b-3609-4c5e-91e2-4e5b0f8589ab",
   "metadata": {},
   "source": [
    "### c) Function for calculating Euclidian norm of a vector"
   ]
  },
  {
   "cell_type": "code",
   "execution_count": 5,
   "id": "bca0c92f-76aa-4283-bb0f-01a79699579b",
   "metadata": {},
   "outputs": [],
   "source": [
    "import math\n",
    "def vectorNorm (vector):\n",
    "    return math.sqrt(vector[0] * vector[0] + vector[1] * vector[1] + vector[2] * vector[2])"
   ]
  },
  {
   "cell_type": "markdown",
   "id": "994ced07-5007-4da5-a464-11d44dbbe126",
   "metadata": {},
   "source": [
    "### d) Function for calculating the Transpose of a matrix (simple and plain implementation)"
   ]
  },
  {
   "cell_type": "code",
   "execution_count": 6,
   "id": "032546dd-1dfd-4d32-bfe9-215549906ee7",
   "metadata": {},
   "outputs": [],
   "source": [
    "def transposeMatrix (matrix):\n",
    "    newMatrix = [[matrix[0][0], matrix[1][0], matrix[2][0]], [matrix[0][1], matrix[1][1], matrix[2][1]], [matrix[0][2], matrix[1][2], matrix[2][2]]]\n",
    "    return newMatrix"
   ]
  },
  {
   "cell_type": "markdown",
   "id": "e8ed81fe-a52f-4324-8e0b-5e6d9ba117b4",
   "metadata": {},
   "source": [
    "### e) Function for calculating the product of a Matrix and a Vector -> returns vector"
   ]
  },
  {
   "cell_type": "code",
   "execution_count": 7,
   "id": "3c4ea29f-4372-48df-8aba-a4ff965898be",
   "metadata": {},
   "outputs": [
    {
     "name": "stdout",
     "output_type": "stream",
     "text": [
      "[21, 27, 35]\n"
     ]
    }
   ],
   "source": [
    "def matrixVectorMultiplication (matrix, vector):\n",
    "    resultVector = []\n",
    "    for lineIndex in range(0, 3):\n",
    "        sum = 0\n",
    "        for colIndex in range(0, 3):\n",
    "            sum += matrix[lineIndex][colIndex] * vector[colIndex]\n",
    "        resultVector.append(sum)\n",
    "    return resultVector\n",
    "    \n",
    "print(matrixVectorMultiplication(matrixA, matrixB))"
   ]
  },
  {
   "cell_type": "markdown",
   "id": "82764210-a036-4966-b239-9b92b9c98dd2",
   "metadata": {},
   "source": [
    "### f) Additional functions for solving the system of equasions\n",
    "- Replace column (needed for calculating the determinant of $A_x$, $A_y$, and $A_z$ for Cramer Rule"
   ]
  },
  {
   "cell_type": "code",
   "execution_count": 8,
   "id": "a1c566d5-f2cb-4b19-bfd4-3a72d411da2a",
   "metadata": {},
   "outputs": [],
   "source": [
    "import copy\n",
    "def replaceColumn(matrix, newColumn, columnIndexToReplace):\n",
    "    matrixCopy = copy.deepcopy(matrix)\n",
    "    for line in range (0, len(matrix)): \n",
    "        matrixCopy[line][columnIndexToReplace] = newColumn[line]\n",
    "    return matrixCopy"
   ]
  },
  {
   "cell_type": "markdown",
   "id": "20bd5251-c8ee-4ec0-9e5c-9f974f2f33d7",
   "metadata": {},
   "source": [
    "## 3. Solving using Cramer's Rule \n",
    "### Preparation step \n",
    "- calculate the determinant of the matrix"
   ]
  },
  {
   "cell_type": "code",
   "execution_count": 9,
   "id": "74ccfac4-40df-4cfe-a32d-1968bcc7623e",
   "metadata": {},
   "outputs": [],
   "source": [
    "matrixADetermiant = determinant(matrixA)"
   ]
  },
  {
   "cell_type": "markdown",
   "id": "ae80ef64-e465-4ad7-9165-a6ebe54ef618",
   "metadata": {},
   "source": [
    "### a) Calculating x\n",
    "- calculate $A_x$ matrix\n",
    "- calculate x using the formula $x = \\frac{\\det(A_x)}{\\det(A)}\n",
    "$"
   ]
  },
  {
   "cell_type": "code",
   "execution_count": 10,
   "id": "9f20b9f3-377e-4a56-9073-45af70f268ba",
   "metadata": {},
   "outputs": [
    {
     "name": "stdout",
     "output_type": "stream",
     "text": [
      "x = 5 / 14 (float value): 0.35714285714285715\n"
     ]
    }
   ],
   "source": [
    "matrixAx = replaceColumn(matrixA, matrixB, 0)\n",
    "matrixAxDeterminant = determinant(matrixAx)\n",
    "x_solution = matrixAxDeterminant / matrixADetermiant\n",
    "print('x =', matrixAxDeterminant, '/', matrixADetermiant, '(float value):', x_solution)"
   ]
  },
  {
   "cell_type": "markdown",
   "id": "530f57a9-f0b9-42f2-93e8-2b200a327753",
   "metadata": {},
   "source": [
    "### b) Calculating y\n",
    "- calculate $A_y$ matrix\n",
    "- calculate y using the formula $y = \\frac{\\det(A_y)}{\\det(A)}\n",
    "$"
   ]
  },
  {
   "cell_type": "code",
   "execution_count": 11,
   "id": "ceb33f3d-a073-4618-b437-fcb14ec069c8",
   "metadata": {},
   "outputs": [
    {
     "name": "stdout",
     "output_type": "stream",
     "text": [
      "y = 29 / 14 (float value): 2.0714285714285716\n"
     ]
    }
   ],
   "source": [
    "matrixAy = replaceColumn(matrixA, matrixB, 1)\n",
    "matrixAyDeterminant = determinant(matrixAy)\n",
    "y_solution = matrixAyDeterminant / matrixADetermiant\n",
    "print('y =', matrixAyDeterminant, '/', matrixADetermiant, '(float value):', y_solution)"
   ]
  },
  {
   "cell_type": "markdown",
   "id": "7538e431-76aa-401d-a7c0-28ffed074a76",
   "metadata": {},
   "source": [
    "### c) Calculating z\n",
    "- calculate $A_z$ matrix\n",
    "- calculate z using the formula $z = \\frac{\\det(A_z)}{\\det(A)}\n",
    "$"
   ]
  },
  {
   "cell_type": "code",
   "execution_count": 12,
   "id": "18234b80-5120-4039-90b0-075bbcdd7ead",
   "metadata": {},
   "outputs": [
    {
     "name": "stdout",
     "output_type": "stream",
     "text": [
      "z = 27 / 14 (float value): 1.9285714285714286\n"
     ]
    }
   ],
   "source": [
    "matrixAz = replaceColumn(matrixA, matrixB, 2)\n",
    "matrixAzDeterminant = determinant(matrixAz)\n",
    "z_solution = matrixAzDeterminant / matrixADetermiant\n",
    "print('z =', matrixAzDeterminant, '/', matrixADetermiant, '(float value):', z_solution)"
   ]
  },
  {
   "cell_type": "markdown",
   "id": "29100af0-776c-4cd6-8a2d-aa1119ec3c37",
   "metadata": {},
   "source": [
    "## 4. Solving using Inversion\n",
    "- First we will create 2 new functions, one for computing the adjugate matrix and a helper function for that to calculate the minors\n",
    "### a) Function for calculating a minor"
   ]
  },
  {
   "cell_type": "code",
   "execution_count": 13,
   "id": "4ec70d18-7fd3-48d1-80a4-0ce2c37ab910",
   "metadata": {},
   "outputs": [],
   "source": [
    "def minor (initialMatrix, i, j):\n",
    "    newMatrix = []\n",
    "    for line in range(0, len(initialMatrix)):\n",
    "        if line == i:\n",
    "            continue\n",
    "        newMatrix.append([])\n",
    "        for column in range(0, len(initialMatrix)):\n",
    "            if column == j:\n",
    "                continue\n",
    "            newMatrix[len(newMatrix) - 1].append(initialMatrix[line][column])\n",
    "    return newMatrix"
   ]
  },
  {
   "cell_type": "markdown",
   "id": "bfbcce94-32e7-4f2b-9813-0a0f6702c881",
   "metadata": {},
   "source": [
    "### b) Function for calculating the adjugate matrix"
   ]
  },
  {
   "cell_type": "code",
   "execution_count": 14,
   "id": "4f2abc0e-47f8-4905-b011-fc3e483ce8e3",
   "metadata": {},
   "outputs": [],
   "source": [
    "def adjugate (matrix):\n",
    "    newMatrix = copy.deepcopy(matrix)\n",
    "    for line in range(0, len(newMatrix)):\n",
    "        for column in range(0, len(newMatrix)):\n",
    "            minorMatrix = minor(matrix, line, column)\n",
    "            minorDeterminant = determinant(minorMatrix)\n",
    "            if (line + column) % 2 == 0:\n",
    "                newMatrix[line][column] = minorDeterminant\n",
    "            else:\n",
    "                newMatrix[line][column] = -minorDeterminant\n",
    "\n",
    "    return transposeMatrix(newMatrix)"
   ]
  },
  {
   "cell_type": "markdown",
   "id": "cc8645af-f97f-4656-8f31-41b9679ced21",
   "metadata": {},
   "source": [
    "### c) Function for multipling a matrix by a scalar"
   ]
  },
  {
   "cell_type": "code",
   "execution_count": 15,
   "id": "1e9a89be-31ef-42f9-80d9-8451da371450",
   "metadata": {},
   "outputs": [],
   "source": [
    "def multiplyMatrixByScalar (matrix, scalar):\n",
    "    newMatrix = copy.deepcopy(matrix)\n",
    "    for line in range(0, len(newMatrix)):\n",
    "        for column in range(0, len(newMatrix)):\n",
    "            newMatrix[line][column] = matrix[line][column] * scalar\n",
    "    return newMatrix"
   ]
  },
  {
   "cell_type": "markdown",
   "id": "f6f9773d-05c7-416b-b658-d1a4fa49a030",
   "metadata": {},
   "source": [
    "#### Let's calculate $A^{-1}$ by using: $$ \n",
    "A^{-1} = \\frac{1}{\\det(A)} \\times \\operatorname{adj}(A) \n",
    "$$\r\n",
    " "
   ]
  },
  {
   "cell_type": "code",
   "execution_count": 16,
   "id": "a054600f-6149-4597-9268-e2f204579d78",
   "metadata": {},
   "outputs": [],
   "source": [
    "adjugateMatrix = adjugate(matrixA)\n",
    "aToMinus1 = multiplyMatrixByScalar(adjugateMatrix, 1 / matrixADetermiant)"
   ]
  },
  {
   "cell_type": "markdown",
   "id": "22735a46-6ffd-4319-8b1a-77663eb3d35c",
   "metadata": {},
   "source": [
    "#### Now all it remains is to calculate the results as the product $A^{-1} \\cdot B$ and to extract the results"
   ]
  },
  {
   "cell_type": "code",
   "execution_count": 17,
   "id": "72f53b65-a6bb-43e0-b25b-af3a119192d4",
   "metadata": {},
   "outputs": [
    {
     "name": "stdout",
     "output_type": "stream",
     "text": [
      "x = 0.35714285714285765, y = 2.071428571428571, z = 1.9285714285714293\n"
     ]
    }
   ],
   "source": [
    "result = matrixVectorMultiplication(aToMinus1, matrixB)\n",
    "xResult2 = result[0]\n",
    "yResult2 = result[1]\n",
    "zResult2 = result[2]\n",
    "print(f'x = {xResult2}, y = {yResult2}, z = {zResult2}')"
   ]
  },
  {
   "cell_type": "markdown",
   "id": "9226707c-4c17-4804-9a2d-26ee7b3c0e3f",
   "metadata": {},
   "source": [
    "##### We can see that the results are the same in both solutions"
   ]
  },
  {
   "cell_type": "markdown",
   "id": "14ac5e9a-5662-4680-9c57-0542303337bf",
   "metadata": {},
   "source": [
    "## Bonus\n",
    "The formula given for the determinant is in fact just the calculation of a determinant using the decomposition by a line or column (by the first line in our case). More general the determant of a matrix is the sum of the minors of a line/column in the matrix."
   ]
  }
 ],
 "metadata": {
  "kernelspec": {
   "display_name": "Python 3 (ipykernel)",
   "language": "python",
   "name": "python3"
  },
  "language_info": {
   "codemirror_mode": {
    "name": "ipython",
    "version": 3
   },
   "file_extension": ".py",
   "mimetype": "text/x-python",
   "name": "python",
   "nbconvert_exporter": "python",
   "pygments_lexer": "ipython3",
   "version": "3.10.6"
  }
 },
 "nbformat": 4,
 "nbformat_minor": 5
}
