{
 "cells": [
  {
   "cell_type": "markdown",
   "id": "9899442a-63e0-49ae-aeda-d5708286cca9",
   "metadata": {},
   "source": [
    "## 1. Parsing the System of "
   ]
  },
  {
   "cell_type": "markdown",
   "id": "de8bddfe-caf8-4eb1-8194-6d5084911748",
   "metadata": {},
   "source": [
    "### a) First lets open the file and read the lines"
   ]
  },
  {
   "cell_type": "code",
   "execution_count": 1,
   "id": "b06a34db-513c-4a8f-b02d-3b836e041af7",
   "metadata": {},
   "outputs": [
    {
     "name": "stdout",
     "output_type": "stream",
     "text": [
      "['2x + 3y - z = 5\\n', 'x - y + 4z = 6\\n', '3x + y + 2z = 7\\n']\n"
     ]
    }
   ],
   "source": [
    "file = open('equasions.txt', 'r') \n",
    "equasionLines = file.readlines()\n",
    "print(equasionLines)"
   ]
  },
  {
   "cell_type": "markdown",
   "id": "45133632-5e70-44d3-8290-ba7558936bdd",
   "metadata": {},
   "source": [
    "### b) Now lets tranform the lines into a matrix by:\n",
    "- Extraction each of the terms in their own string\n",
    "- Replacing the term (x/y/z) with an empty string so that evaluating Number is not throwing an error\n",
    "- Multiplying by -1 if the sign previous symbol is a minus\n",
    "- $Assumption$: the first term has no space between the number and the minus (-2x not - 2x)"
   ]
  },
  {
   "cell_type": "code",
   "execution_count": 2,
   "id": "4b6ef1e4-85ad-4752-888a-28aec601aa0c",
   "metadata": {},
   "outputs": [
    {
     "name": "stdout",
     "output_type": "stream",
     "text": [
      "[[2, 3, -1], [1, -1, 4], [3, 1, 2]] [5, 6, 7]\n"
     ]
    }
   ],
   "source": [
    "xTerm = 0\n",
    "yTerm = 0\n",
    "zTerm = 0\n",
    "matrixA = []\n",
    "matrixB = []\n",
    "for equasionLine in equasionLines:\n",
    "    lineElements = equasionLine.split()\n",
    "    if lineElements[0] == 'x':\n",
    "        lineElements[0] = '1x'\n",
    "    if lineElements[2] == 'y':\n",
    "        lineElements[2] = '1y'\n",
    "    if lineElements[4] == 'z':\n",
    "        lineElements[4] = '1z'\n",
    "    xTerm = int(lineElements[0].replace('x', ''))\n",
    "    yTerm = int(lineElements[2].replace('y', ''))\n",
    "    zTerm = int(lineElements[4].replace('z', ''))\n",
    "\n",
    "    if lineElements[1] == '-':\n",
    "        yTerm *= -1\n",
    "    \n",
    "    if lineElements[3] == '-':\n",
    "        zTerm *= -1\n",
    "        \n",
    "    equalsValue = int(lineElements[6])\n",
    "    matrixA.append([xTerm, yTerm, zTerm])\n",
    "    matrixB.append(equalsValue)\n",
    "print(matrixA, matrixB)"
   ]
  },
  {
   "cell_type": "markdown",
   "id": "6e3d7d69-682d-41a3-9169-d3b704ff9351",
   "metadata": {},
   "source": [
    "## 2. Matrix and Vector Operations"
   ]
  },
  {
   "cell_type": "markdown",
   "id": "895a8f50-fd97-4388-8c1e-8291e0ff5e57",
   "metadata": {},
   "source": [
    "### a) Function for calculating the Determinant of a matrix"
   ]
  },
  {
   "cell_type": "code",
   "execution_count": 3,
   "id": "fb89f0a5-695d-4fe1-bb98-9b46df590175",
   "metadata": {},
   "outputs": [],
   "source": [
    "def determinant (matrix): \n",
    "    if len(matrix) == 2:\n",
    "        return matrix[0][0] * matrix[1][1] - matrix[0][1] * matrix[1][0]\n",
    "        \n",
    "    return \\\n",
    "    matrix[0][0] * (matrix[1][1] * matrix[2][2] - matrix[1][2] * matrix[2][1]) - \\\n",
    "    matrix[0][1] * (matrix[1][0] * matrix[2][2] - matrix[1][2] * matrix[2][0]) + \\\n",
    "    matrix[0][2] * (matrix[1][0] * matrix[2][1] - matrix[1][1] * matrix[2][0])"
   ]
  },
  {
   "cell_type": "markdown",
   "id": "f2922313-48c3-484e-94e1-dbb76973e048",
   "metadata": {},
   "source": [
    "### b) Function for calculating Trace of a matrix "
   ]
  },
  {
   "cell_type": "code",
   "execution_count": 4,
   "id": "140b3f31-bcfb-43a8-9373-38e362029133",
   "metadata": {},
   "outputs": [],
   "source": [
    "def trace (matrix):\n",
    "    return matrix[0][0] * matrix[1][1] * matrix[2][2]"
   ]
  },
  {
   "cell_type": "markdown",
   "id": "0c62c61b-3609-4c5e-91e2-4e5b0f8589ab",
   "metadata": {},
   "source": [
    "### c) Function for calculating Euclidian norm of a vector"
   ]
  },
  {
   "cell_type": "code",
   "execution_count": 5,
   "id": "bca0c92f-76aa-4283-bb0f-01a79699579b",
   "metadata": {},
   "outputs": [],
   "source": [
    "import math\n",
    "def vectorNorm (vector):\n",
    "    return math.sqrt(vector[0] * vector[0] + vector[1] * vector[1] + vector[2] * vector[2])"
   ]
  },
  {
   "cell_type": "markdown",
   "id": "994ced07-5007-4da5-a464-11d44dbbe126",
   "metadata": {},
   "source": [
    "### d) Function for calculating the Transpose of a matrix (simple and plain implementation)"
   ]
  },
  {
   "cell_type": "code",
   "execution_count": 6,
   "id": "032546dd-1dfd-4d32-bfe9-215549906ee7",
   "metadata": {},
   "outputs": [],
   "source": [
    "def transposeMatrix (matrix):\n",
    "    newMatrix = [[matrix[0][0], matrix[1][0], matrix[2][0]], [matrix[0][1], matrix[1][1], matrix[2][1]], [matrix[0][2], matrix[1][2], matrix[2][2]]]"
   ]
  },
  {
   "cell_type": "markdown",
   "id": "e8ed81fe-a52f-4324-8e0b-5e6d9ba117b4",
   "metadata": {},
   "source": [
    "### e) Function for calculating the product of a Matrix and a Vector -> returns vector"
   ]
  },
  {
   "cell_type": "code",
   "execution_count": 7,
   "id": "3c4ea29f-4372-48df-8aba-a4ff965898be",
   "metadata": {},
   "outputs": [],
   "source": [
    "def matrixVectorMultiplication (matrix, vector):\n",
    "    resultVector = []\n",
    "    for lineIndex in range(0, 3):\n",
    "        sum = 0\n",
    "        for colIndex in range(0, 3):\n",
    "            sum += matrix[lineIndex][colIndex] * vector[colIndex]\n",
    "        resultVector.append(sum)\n",
    "    return resultVector"
   ]
  },
  {
   "cell_type": "markdown",
   "id": "82764210-a036-4966-b239-9b92b9c98dd2",
   "metadata": {},
   "source": [
    "### f) Additional functions for solving the system of equasions\n",
    "- Replace column (needed for calculating the determinant of $\\Delta_a$ Cramer system"
   ]
  },
  {
   "cell_type": "code",
   "execution_count": 9,
   "id": "a1c566d5-f2cb-4b19-bfd4-3a72d411da2a",
   "metadata": {},
   "outputs": [],
   "source": [
    "def replaceColumn(matrix, newColumn, columnIndexToReplace):\n",
    "    for line in range (0, len(matrxi)): \n",
    "        matrix[line][columnIndexToReplace] = newColumn[columnIndexToReplace]\n",
    "    # the matrix is now changed"
   ]
  },
  {
   "cell_type": "markdown",
   "id": "20bd5251-c8ee-4ec0-9e5c-9f974f2f33d7",
   "metadata": {},
   "source": [
    "## 3. Solving using Cramer's Rule "
   ]
  },
  {
   "cell_type": "code",
   "execution_count": null,
   "id": "9009ced1-5c59-406e-b7f5-8eb03320c977",
   "metadata": {},
   "outputs": [],
   "source": []
  }
 ],
 "metadata": {
  "kernelspec": {
   "display_name": "Python 3 (ipykernel)",
   "language": "python",
   "name": "python3"
  },
  "language_info": {
   "codemirror_mode": {
    "name": "ipython",
    "version": 3
   },
   "file_extension": ".py",
   "mimetype": "text/x-python",
   "name": "python",
   "nbconvert_exporter": "python",
   "pygments_lexer": "ipython3",
   "version": "3.10.6"
  }
 },
 "nbformat": 4,
 "nbformat_minor": 5
}
